{
 "cells": [
  {
   "cell_type": "code",
   "execution_count": 1,
   "metadata": {},
   "outputs": [
    {
     "ename": "ModuleNotFoundError",
     "evalue": "No module named 'nltk'",
     "output_type": "error",
     "traceback": [
      "\u001b[1;31m---------------------------------------------------------------------------\u001b[0m",
      "\u001b[1;31mModuleNotFoundError\u001b[0m                       Traceback (most recent call last)",
      "\u001b[1;32m<ipython-input-1-2860f938dce2>\u001b[0m in \u001b[0;36m<module>\u001b[1;34m\u001b[0m\n\u001b[0;32m      1\u001b[0m \u001b[1;32mimport\u001b[0m \u001b[0mos\u001b[0m\u001b[1;33m\u001b[0m\u001b[1;33m\u001b[0m\u001b[0m\n\u001b[0;32m      2\u001b[0m \u001b[1;33m\u001b[0m\u001b[0m\n\u001b[1;32m----> 3\u001b[1;33m \u001b[1;32mimport\u001b[0m \u001b[0mnltk\u001b[0m\u001b[1;33m.\u001b[0m\u001b[0mdata\u001b[0m\u001b[1;33m\u001b[0m\u001b[1;33m\u001b[0m\u001b[0m\n\u001b[0m\u001b[0;32m      4\u001b[0m \u001b[1;32mimport\u001b[0m \u001b[0msounddevice\u001b[0m \u001b[1;32mas\u001b[0m \u001b[0msd\u001b[0m\u001b[1;33m\u001b[0m\u001b[1;33m\u001b[0m\u001b[0m\n\u001b[0;32m      5\u001b[0m \u001b[1;32mimport\u001b[0m \u001b[0msoundfile\u001b[0m \u001b[1;32mas\u001b[0m \u001b[0msf\u001b[0m\u001b[1;33m\u001b[0m\u001b[1;33m\u001b[0m\u001b[0m\n",
      "\u001b[1;31mModuleNotFoundError\u001b[0m: No module named 'nltk'"
     ]
    }
   ],
   "source": [
    "import os\n",
    "\n",
    "import nltk.data\n",
    "import sounddevice as sd\n",
    "import soundfile as sf\n",
    "import time\n",
    "import numpy as np"
   ]
  },
  {
   "cell_type": "code",
   "execution_count": 2,
   "metadata": {},
   "outputs": [],
   "source": [
    "import tkinter as tk\n",
    "from tkinter import *"
   ]
  },
  {
   "cell_type": "code",
   "execution_count": 13,
   "metadata": {},
   "outputs": [],
   "source": [
    "label_status = ''\n",
    "index=-1"
   ]
  },
  {
   "cell_type": "code",
   "execution_count": 4,
   "metadata": {},
   "outputs": [],
   "source": [
    "topics = ['thoisu', 'gocnhin', 'thegioi', 'kinhdoanh', 'giaitri', 'thethao', 'phapluat', 'giaoduc', 'suckhoe', 'doisong', 'dulich', 'khoahoc', 'sohoa', 'xe', 'ykien','tamsu']"
   ]
  },
  {
   "cell_type": "code",
   "execution_count": 5,
   "metadata": {},
   "outputs": [
    {
     "name": "stdout",
     "output_type": "stream",
     "text": [
      "11 11\n",
      "85 85\n",
      "105 105\n",
      "123 123\n",
      "133 133\n",
      "151 151\n",
      "158 158\n",
      "203 203\n",
      "230 230\n",
      "262 262\n",
      "281 281\n",
      "293 293\n",
      "307 307\n",
      "343 343\n",
      "360 360\n",
      "408 408\n"
     ]
    }
   ],
   "source": [
    "sentences = np.array([])\n",
    "topic_of_sent = np.array([])\n",
    "for topic in topics:\n",
    "    filePathInput = 'data/' + topic + '.txt'\n",
    "    f = open(filePathInput, 'r', encoding='utf8')\n",
    "    sentence = np.array(f.readlines())\n",
    "    sentences = np.concatenate((sentences, sentence), axis=None)\n",
    "    topic_of_sent = np.concatenate((topic_of_sent, np.full(sentence.size, topic)), axis=None)\n",
    "    print(sentences.size, topic_of_sent.size)"
   ]
  },
  {
   "cell_type": "code",
   "execution_count": 6,
   "metadata": {},
   "outputs": [],
   "source": [
    "def sync_record(filename, duration, fs, channels):\n",
    "    global label_status\n",
    "    label_status = 'Recording'\n",
    "    myrecording = sd.rec(int(duration * fs), samplerate=fs, channels=channels)\n",
    "    sd.wait()\n",
    "    sf.write(filename, myrecording, fs)\n",
    "    label_status = 'Done Recording'"
   ]
  },
  {
   "cell_type": "code",
   "execution_count": 19,
   "metadata": {},
   "outputs": [],
   "source": [
    "def show_text():\n",
    "    global index\n",
    "    index = index + 1\n",
    "    outputBox.delete(\"1.0\", END)\n",
    "    outputBox.insert(END, sentences[index])"
   ]
  },
  {
   "cell_type": "code",
   "execution_count": 22,
   "metadata": {},
   "outputs": [],
   "source": [
    "def record_sentence(index):\n",
    "    print(index)\n",
    "    fileNameRecord = 'outputWav/' + topic_of_sent[index] + '/' + str(index) + '.wav'\n",
    "    sync_record(fileNameRecord, len(sentences[index])/12.5, 16000, 1)\n",
    "    sentence = str(sentences[index])\n",
    "    f = open('outputWav/' + topic_of_sent[index] + '/description.txt', 'a+', encoding='utf8')\n",
    "    f.write(str(index) + '.wav\\n')\n",
    "    f.write(sentence)"
   ]
  },
  {
   "cell_type": "code",
   "execution_count": 54,
   "metadata": {},
   "outputs": [
    {
     "name": "stdout",
     "output_type": "stream",
     "text": [
      "Gói thầu trên cao dài hơn 8 km của tuyến Metro đầu tiên ở thủ đô đã hoàn thiện thi công và đang chờ bàn giao.\n",
      "\n"
     ]
    }
   ],
   "source": [
    "print(sentences[0])"
   ]
  },
  {
   "cell_type": "code",
   "execution_count": 8,
   "metadata": {},
   "outputs": [],
   "source": [
    "def start_record():\n",
    "    global status\n",
    "    global index\n",
    "    record_sentence(index)\n",
    "    print('Record-done ', index)"
   ]
  },
  {
   "cell_type": "code",
   "execution_count": 23,
   "metadata": {},
   "outputs": [
    {
     "name": "stdout",
     "output_type": "stream",
     "text": [
      "24\n",
      "Record-done  24\n",
      "27\n",
      "Record-done  27\n"
     ]
    }
   ],
   "source": [
    "m = tk.Tk()\n",
    "m.geometry(\"700x250\")\n",
    "m.title('Record')\n",
    "button_start = tk.Button(m, text='Start', width=15, command=start_record)\n",
    "button_start.place(x=500, y=10)\n",
    "label = tk.Label(m, text='', textvariable=label_status)\n",
    "label.place(x=50, y=10)\n",
    "outputBox = Text(m, width=70, height=7, bd=1)\n",
    "outputBox.place(x=50, y=50)\n",
    "button_next = tk.Button(m, text='Next', width=15, command=show_text)\n",
    "button_next.place(x=500, y=200)\n",
    "m.mainloop()"
   ]
  }
 ],
 "metadata": {
  "kernelspec": {
   "display_name": "Python 3",
   "language": "python",
   "name": "python3"
  },
  "language_info": {
   "codemirror_mode": {
    "name": "ipython",
    "version": 3
   },
   "file_extension": ".py",
   "mimetype": "text/x-python",
   "name": "python",
   "nbconvert_exporter": "python",
   "pygments_lexer": "ipython3",
   "version": "3.7.7"
  }
 },
 "nbformat": 4,
 "nbformat_minor": 4
}

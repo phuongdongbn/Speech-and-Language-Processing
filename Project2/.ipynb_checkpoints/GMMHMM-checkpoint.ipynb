{
 "cells": [
  {
   "cell_type": "code",
   "execution_count": 1,
   "metadata": {},
   "outputs": [
    {
     "name": "stderr",
     "output_type": "stream",
     "text": [
      "C:\\Users\\PhuongDong\\miniconda3\\envs\\voice\\lib\\site-packages\\librosa\\util\\decorators.py:9: NumbaDeprecationWarning: \u001b[1mAn import was requested from a module that has moved location.\n",
      "Import requested from: 'numba.decorators', please update to use 'numba.core.decorators' or pin to Numba version 0.48.0. This alias will not be present in Numba version 0.50.0.\u001b[0m\n",
      "  from numba.decorators import jit as optional_jit\n",
      "C:\\Users\\PhuongDong\\miniconda3\\envs\\voice\\lib\\site-packages\\librosa\\util\\decorators.py:9: NumbaDeprecationWarning: \u001b[1mAn import was requested from a module that has moved location.\n",
      "Import of 'jit' requested from: 'numba.decorators', please update to use 'numba.core.decorators' or pin to Numba version 0.48.0. This alias will not be present in Numba version 0.50.0.\u001b[0m\n",
      "  from numba.decorators import jit as optional_jit\n"
     ]
    }
   ],
   "source": [
    "import librosa\n",
    "import numpy as np\n",
    "import os\n",
    "import math\n",
    "import operator\n",
    "from sklearn.cluster import KMeans\n",
    "import hmmlearn.hmm"
   ]
  },
  {
   "cell_type": "code",
   "execution_count": 2,
   "metadata": {},
   "outputs": [],
   "source": [
    "def get_mfcc(file_path):\n",
    "    y, sr = librosa.load(file_path) # read .wav file\n",
    "    hop_length = math.floor(sr*0.010) # 10ms hop\n",
    "    win_length = math.floor(sr*0.025) # 25ms frame\n",
    "    # mfcc is 12 x T matrix\n",
    "    mfcc = librosa.feature.mfcc(\n",
    "        y, sr, n_mfcc=12, n_fft=1024,\n",
    "        hop_length=hop_length, win_length=win_length)\n",
    "    # substract mean from mfcc --> normalize mfcc\n",
    "    mfcc = mfcc - np.mean(mfcc, axis=1).reshape((-1,1)) \n",
    "    # delta feature 1st order and 2nd order\n",
    "    delta1 = librosa.feature.delta(mfcc, order=1)\n",
    "    delta2 = librosa.feature.delta(mfcc, order=2)\n",
    "    # X is 36 x T\n",
    "    X = np.concatenate([mfcc, delta1, delta2], axis=0) # O^r\n",
    "    # return T x 36 (transpose of X)\n",
    "    return X.T # hmmlearn use T x N matrix"
   ]
  },
  {
   "cell_type": "code",
   "execution_count": 3,
   "metadata": {},
   "outputs": [],
   "source": [
    "def get_class_data(data_dir):\n",
    "    files = os.listdir(data_dir)\n",
    "    mfcc = [get_mfcc(os.path.join(data_dir,f)) for f in files if f.endswith(\".wav\")]\n",
    "    return mfcc"
   ]
  },
  {
   "cell_type": "code",
   "execution_count": 4,
   "metadata": {},
   "outputs": [],
   "source": [
    "def clustering(X, n_clusters=10):\n",
    "    kmeans = KMeans(n_clusters=n_clusters, n_init=50, random_state=0, verbose=0)\n",
    "    kmeans.fit(X)\n",
    "    print(\"centers\", kmeans.cluster_centers_.shape)\n",
    "    return kmeans "
   ]
  },
  {
   "cell_type": "code",
   "execution_count": 7,
   "metadata": {},
   "outputs": [
    {
     "name": "stdout",
     "output_type": "stream",
     "text": [
      "Load nguoi dataset\n",
      "Load viet_nam dataset\n",
      "Load lam_viec dataset\n",
      "Load mot dataset\n",
      "Load khong dataset\n",
      "Load test_nguoi dataset\n",
      "Load test_viet_nam dataset\n",
      "Load test_lam_viec dataset\n",
      "Load test_mot dataset\n",
      "Load test_khong dataset\n",
      "vectors (17729, 36)\n",
      "centers (10, 36)\n",
      "centers (10, 36)\n"
     ]
    }
   ],
   "source": [
    "class_names = [\"nguoi\", \"viet_nam\", \"lam_viec\", \"mot\", \"khong\", \"test_nguoi\", \"test_viet_nam\", \"test_lam_viec\", \"test_mot\", \"test_khong\"]\n",
    "dataset = {}\n",
    "for cname in class_names:\n",
    "    print(f\"Load {cname} dataset\")\n",
    "    dataset[cname] = get_class_data(os.path.join(\"data_hmm\", cname))\n",
    "# Get all vectors in the datasets\n",
    "all_vectors = np.concatenate([np.concatenate(v, axis=0) for k, v in dataset.items()], axis=0)\n",
    "print(\"vectors\", all_vectors.shape)\n",
    "# Run K-Means algorithm to get clusters\n",
    "kmeans = clustering(all_vectors)\n",
    "print(\"centers\", kmeans.cluster_centers_.shape)"
   ]
  },
  {
   "cell_type": "code",
   "execution_count": 17,
   "metadata": {},
   "outputs": [],
   "source": [
    "def train_GMMHMM(train_set, n_component, startprob_prior, transmat_prior):\n",
    "    model = hmmlearn.hmm.MultinomialHMM(n_components=n_component, random_state=0, n_iter=1000, verbose=True,\n",
    "                                       startprob_prior=startprob_prior, transmat_prior=transmat_prior)\n",
    "    X = np.concatenate(train_set)\n",
    "    lengths = list([len(x) for x in dataset[cname]])\n",
    "    # fit dat \n",
    "    print(X.shape, lengths, len(lengths))\n",
    "    model.fit(X, lengths=lengths)\n",
    "    return model"
   ]
  },
  {
   "cell_type": "code",
   "execution_count": 15,
   "metadata": {},
   "outputs": [
    {
     "name": "stdout",
     "output_type": "stream",
     "text": [
      "(1887, 36) [26, 28, 26, 24, 20, 19, 16, 29, 37, 24, 31, 32, 26, 31, 28, 29, 18, 24, 24, 16] 20\n",
      "(5932, 36) [26, 28, 26, 24, 20, 19, 16, 29, 37, 24, 31, 32, 26, 31, 28, 29, 18, 24, 24, 16] 20\n",
      "(1365, 36) [26, 28, 26, 24, 20, 19, 16, 29, 37, 24, 31, 32, 26, 31, 28, 29, 18, 24, 24, 16] 20\n",
      "(2020, 36) [26, 28, 26, 24, 20, 19, 16, 29, 37, 24, 31, 32, 26, 31, 28, 29, 18, 24, 24, 16] 20\n",
      "(3536, 36) [26, 28, 26, 24, 20, 19, 16, 29, 37, 24, 31, 32, 26, 31, 28, 29, 18, 24, 24, 16] 20\n"
     ]
    },
    {
     "name": "stderr",
     "output_type": "stream",
     "text": [
      "C:\\Users\\PhuongDong\\AppData\\Roaming\\Python\\Python37\\site-packages\\hmmlearn\\hmm.py:968: RuntimeWarning: divide by zero encountered in true_divide\n",
      "  new_cov = new_cov_numer / new_cov_denom\n"
     ]
    },
    {
     "name": "stdout",
     "output_type": "stream",
     "text": [
      "{'khong': GMMHMM(algorithm='viterbi', covariance_type='diag',\n",
      "       covars_prior=array([[[-1.5, -1.5, -1.5, -1.5, -1.5, -1.5, -1.5, -1.5, -1.5, -1.5,\n",
      "         -1.5, -1.5, -1.5, -1.5, -1.5, -1.5, -1.5, -1.5, -1.5, -1.5,\n",
      "         -1.5, -1.5, -1.5, -1.5, -1.5, -1.5, -1.5, -1.5, -1.5, -1.5,\n",
      "         -1.5, -1.5, -1.5, -1.5, -1.5, -1.5],\n",
      "        [-1.5, -1.5, -1.5, -1.5, -1.5, -1.5, -1.5, -1.5, -1.5, -1.5,\n",
      "         -1.5, -1.5, -1.5, -1.5, -1.5, -1.5, -1.5, -1.5, -1.5, -...\n",
      "         0., 0., 0., 0., 0., 0., 0., 0., 0., 0., 0., 0., 0., 0., 0., 0.,\n",
      "         0., 0., 0., 0.]]]),\n",
      "       means_weight=array([[0., 0.],\n",
      "       [0., 0.],\n",
      "       [0., 0.],\n",
      "       [0., 0.],\n",
      "       [0., 0.],\n",
      "       [0., 0.],\n",
      "       [0., 0.],\n",
      "       [0., 0.],\n",
      "       [0., 0.]]),\n",
      "       min_covar=0.001, n_components=9, n_iter=10, n_mix=2, params='stmcw',\n",
      "       random_state=None, startprob_prior=1.0, tol=0.01, transmat_prior=1.0,\n",
      "       verbose=False,\n",
      "       weights_prior=array([[1., 1.],\n",
      "       [1., 1.],\n",
      "       [1., 1.],\n",
      "       [1., 1.],\n",
      "       [1., 1.],\n",
      "       [1., 1.],\n",
      "       [1., 1.],\n",
      "       [1., 1.],\n",
      "       [1., 1.]])), 'lam_viec': GMMHMM(algorithm='viterbi', covariance_type='diag',\n",
      "       covars_prior=array([[[-1.5, -1.5, -1.5, ..., -1.5, -1.5, -1.5],\n",
      "        [-1.5, -1.5, -1.5, ..., -1.5, -1.5, -1.5]],\n",
      "\n",
      "       [[-1.5, -1.5, -1.5, ..., -1.5, -1.5, -1.5],\n",
      "        [-1.5, -1.5, -1.5, ..., -1.5, -1.5, -1.5]],\n",
      "\n",
      "       [[-1.5, -1.5, -1.5, ..., -1.5, -1.5, -1.5],\n",
      "        [-1.5, -1.5, -1.5, ..., -1.5, -1.5, -1.5]],\n",
      "\n",
      "       ...,\n",
      "\n",
      "       [[-1.5, -1.5, -1.5, ..., -1.5, -1.5, -1.5],\n",
      "        [-1.5, -1.5, -1.5, ....\n",
      "       [0., 0.],\n",
      "       [0., 0.],\n",
      "       [0., 0.],\n",
      "       [0., 0.],\n",
      "       [0., 0.]]),\n",
      "       min_covar=0.001, n_components=18, n_iter=10, n_mix=2, params='stmcw',\n",
      "       random_state=None, startprob_prior=1.0, tol=0.01, transmat_prior=1.0,\n",
      "       verbose=False,\n",
      "       weights_prior=array([[1., 1.],\n",
      "       [1., 1.],\n",
      "       [1., 1.],\n",
      "       [1., 1.],\n",
      "       [1., 1.],\n",
      "       [1., 1.],\n",
      "       [1., 1.],\n",
      "       [1., 1.],\n",
      "       [1., 1.],\n",
      "       [1., 1.],\n",
      "       [1., 1.],\n",
      "       [1., 1.],\n",
      "       [1., 1.],\n",
      "       [1., 1.],\n",
      "       [1., 1.],\n",
      "       [1., 1.],\n",
      "       [1., 1.],\n",
      "       [1., 1.]])), 'mot': GMMHMM(algorithm='viterbi', covariance_type='diag',\n",
      "       covars_prior=array([[[-1.5, -1.5, -1.5, -1.5, -1.5, -1.5, -1.5, -1.5, -1.5, -1.5,\n",
      "         -1.5, -1.5, -1.5, -1.5, -1.5, -1.5, -1.5, -1.5, -1.5, -1.5,\n",
      "         -1.5, -1.5, -1.5, -1.5, -1.5, -1.5, -1.5, -1.5, -1.5, -1.5,\n",
      "         -1.5, -1.5, -1.5, -1.5, -1.5, -1.5],\n",
      "        [-1.5, -1.5, -1.5, -1.5, -1.5, -1.5, -1.5, -1.5, -1.5, -1.5,\n",
      "         -1.5, -1.5, -1.5, -1.5, -1.5, -1.5, -1.5, -1.5, -1.5, -...\n",
      "         0., 0., 0., 0., 0., 0., 0., 0., 0., 0., 0., 0., 0., 0., 0., 0.,\n",
      "         0., 0., 0., 0.]]]),\n",
      "       means_weight=array([[0., 0.],\n",
      "       [0., 0.],\n",
      "       [0., 0.],\n",
      "       [0., 0.],\n",
      "       [0., 0.],\n",
      "       [0., 0.],\n",
      "       [0., 0.],\n",
      "       [0., 0.],\n",
      "       [0., 0.]]),\n",
      "       min_covar=0.001, n_components=9, n_iter=10, n_mix=2, params='stmcw',\n",
      "       random_state=None, startprob_prior=1.0, tol=0.01, transmat_prior=1.0,\n",
      "       verbose=False,\n",
      "       weights_prior=array([[1., 1.],\n",
      "       [1., 1.],\n",
      "       [1., 1.],\n",
      "       [1., 1.],\n",
      "       [1., 1.],\n",
      "       [1., 1.],\n",
      "       [1., 1.],\n",
      "       [1., 1.],\n",
      "       [1., 1.]])), 'nguoi': GMMHMM(algorithm='viterbi', covariance_type='diag',\n",
      "       covars_prior=array([[[-1.5, -1.5, -1.5, -1.5, -1.5, -1.5, -1.5, -1.5, -1.5, -1.5,\n",
      "         -1.5, -1.5, -1.5, -1.5, -1.5, -1.5, -1.5, -1.5, -1.5, -1.5,\n",
      "         -1.5, -1.5, -1.5, -1.5, -1.5, -1.5, -1.5, -1.5, -1.5, -1.5,\n",
      "         -1.5, -1.5, -1.5, -1.5, -1.5, -1.5],\n",
      "        [-1.5, -1.5, -1.5, -1.5, -1.5, -1.5, -1.5, -1.5, -1.5, -1.5,\n",
      "         -1.5, -1.5, -1.5, -1.5, -1.5, -1.5, -1.5, -1.5, -1.5, -...\n",
      "         0., 0., 0., 0., 0., 0., 0., 0., 0., 0., 0., 0., 0., 0., 0., 0.,\n",
      "         0., 0., 0., 0.]]]),\n",
      "       means_weight=array([[0., 0.],\n",
      "       [0., 0.],\n",
      "       [0., 0.],\n",
      "       [0., 0.],\n",
      "       [0., 0.],\n",
      "       [0., 0.],\n",
      "       [0., 0.],\n",
      "       [0., 0.],\n",
      "       [0., 0.]]),\n",
      "       min_covar=0.001, n_components=9, n_iter=10, n_mix=2, params='stmcw',\n",
      "       random_state=None, startprob_prior=1.0, tol=0.01, transmat_prior=1.0,\n",
      "       verbose=False,\n",
      "       weights_prior=array([[1., 1.],\n",
      "       [1., 1.],\n",
      "       [1., 1.],\n",
      "       [1., 1.],\n",
      "       [1., 1.],\n",
      "       [1., 1.],\n",
      "       [1., 1.],\n",
      "       [1., 1.],\n",
      "       [1., 1.]])), 'viet_nam': GMMHMM(algorithm='viterbi', covariance_type='diag',\n",
      "       covars_prior=array([[[-1.5, -1.5, -1.5, ..., -1.5, -1.5, -1.5],\n",
      "        [-1.5, -1.5, -1.5, ..., -1.5, -1.5, -1.5]],\n",
      "\n",
      "       [[-1.5, -1.5, -1.5, ..., -1.5, -1.5, -1.5],\n",
      "        [-1.5, -1.5, -1.5, ..., -1.5, -1.5, -1.5]],\n",
      "\n",
      "       [[-1.5, -1.5, -1.5, ..., -1.5, -1.5, -1.5],\n",
      "        [-1.5, -1.5, -1.5, ..., -1.5, -1.5, -1.5]],\n",
      "\n",
      "       ...,\n",
      "\n",
      "       [[-1.5, -1.5, -1.5, ..., -1.5, -1.5, -1.5],\n",
      "        [-1.5, -1.5, -1.5, ....\n",
      "       [0., 0.],\n",
      "       [0., 0.],\n",
      "       [0., 0.],\n",
      "       [0., 0.],\n",
      "       [0., 0.]]),\n",
      "       min_covar=0.001, n_components=18, n_iter=10, n_mix=2, params='stmcw',\n",
      "       random_state=None, startprob_prior=1.0, tol=0.01, transmat_prior=1.0,\n",
      "       verbose=False,\n",
      "       weights_prior=array([[1., 1.],\n",
      "       [1., 1.],\n",
      "       [1., 1.],\n",
      "       [1., 1.],\n",
      "       [1., 1.],\n",
      "       [1., 1.],\n",
      "       [1., 1.],\n",
      "       [1., 1.],\n",
      "       [1., 1.],\n",
      "       [1., 1.],\n",
      "       [1., 1.],\n",
      "       [1., 1.],\n",
      "       [1., 1.],\n",
      "       [1., 1.],\n",
      "       [1., 1.],\n",
      "       [1., 1.],\n",
      "       [1., 1.],\n",
      "       [1., 1.]]))}\n"
     ]
    }
   ],
   "source": [
    "startprob9 = np.array([0.7, 0.2, 0.1, 0.0, 0.0, 0.0, 0.0, 0.0, 0.0])\n",
    "startprob18 = np.array([0.7, 0.2, 0.1, 0.0, 0.0, 0.0, 0.0, 0.0, 0.0, 0.0, 0.0, 0.0, 0.0, 0.0, 0.0, 0.0, 0.0, 0.0])\n",
    "transmat9 = np.array([[0.1 for x in range(9)] for y in range(9)])\n",
    "transmat18 = np.array([[0.1 for x in range(18)] for y in range(18)])\n",
    "models = {}\n",
    "models[\"khong\"] = train_GMMHMM(dataset[\"khong\"], 9, )\n",
    "models[\"lam_viec\"] = train_GMMHMM(dataset[\"lam_viec\"], 18, 2)\n",
    "models[\"mot\"] = train_GMMHMM(dataset[\"mot\"], 9, 2)\n",
    "models[\"nguoi\"] = train_GMMHMM(dataset[\"nguoi\"], 9, 2)\n",
    "models[\"viet_nam\"] = train_GMMHMM(dataset[\"viet_nam\"], 18, 2)\n",
    "print(models)"
   ]
  },
  {
   "cell_type": "code",
   "execution_count": 16,
   "metadata": {},
   "outputs": [
    {
     "name": "stderr",
     "output_type": "stream",
     "text": [
      "Degenerate mixture covariance\n",
      "Degenerate mixture covariance\n",
      "Degenerate mixture covariance\n",
      "Degenerate mixture covariance\n",
      "Degenerate mixture covariance\n",
      "Degenerate mixture covariance\n",
      "Degenerate mixture covariance\n",
      "Degenerate mixture covariance\n",
      "Degenerate mixture covariance\n",
      "Degenerate mixture covariance\n"
     ]
    },
    {
     "name": "stdout",
     "output_type": "stream",
     "text": [
      "Testing\n",
      "test_nguoi {'khong': -25898.125740999723, 'lam_viec': -14773.569690435603, 'mot': -62251.93555014383, 'nguoi': -25589.71526747086, 'viet_nam': -18143.21788782855} lam_viec\n",
      "test_nguoi {'khong': -24528.648586568677, 'lam_viec': -15629.866123234684, 'mot': -45921.44541813546, 'nguoi': -21437.193049124468, 'viet_nam': -18634.02769258047} lam_viec\n",
      "test_nguoi {'khong': -22894.445452461106, 'lam_viec': -9545.822138149313, 'mot': -32010.44691234258, 'nguoi': -20657.375875885446, 'viet_nam': -13870.810988559906} lam_viec\n",
      "test_nguoi {'khong': -23482.244147468664, 'lam_viec': -16953.826403689505, 'mot': -43036.94966643635, 'nguoi': -24984.862529516446, 'viet_nam': -19571.294363897097} lam_viec\n",
      "test_nguoi {'khong': -17498.03870046465, 'lam_viec': -11792.637026379492, 'mot': -49343.619321186605, 'nguoi': -19888.66933078273, 'viet_nam': -14937.128701958887} lam_viec\n",
      "test_nguoi {'khong': -25587.783272346733, 'lam_viec': -15573.076096501063, 'mot': -61284.98959624157, 'nguoi': -31907.5225187295, 'viet_nam': -23160.713256720283} lam_viec\n",
      "test_nguoi {'khong': -17693.366228826526, 'lam_viec': -11467.460013666503, 'mot': -52225.23779644912, 'nguoi': -23563.61619609777, 'viet_nam': -15518.479229127925} lam_viec\n",
      "test_nguoi {'khong': -18405.11019506694, 'lam_viec': -9138.940419029355, 'mot': -29499.64132106132, 'nguoi': -19822.73272589469, 'viet_nam': -13498.327011497051} lam_viec\n",
      "test_nguoi {'khong': -64867.60326943522, 'lam_viec': -18352.15443682608, 'mot': -54914.246242395115, 'nguoi': -39815.01750772635, 'viet_nam': -33686.91193061081} lam_viec\n"
     ]
    },
    {
     "name": "stderr",
     "output_type": "stream",
     "text": [
      "Degenerate mixture covariance\n",
      "Degenerate mixture covariance\n",
      "Degenerate mixture covariance\n",
      "Degenerate mixture covariance\n",
      "Degenerate mixture covariance\n",
      "Degenerate mixture covariance\n",
      "Degenerate mixture covariance\n",
      "Degenerate mixture covariance\n",
      "Degenerate mixture covariance\n"
     ]
    },
    {
     "name": "stdout",
     "output_type": "stream",
     "text": [
      "test_nguoi {'khong': -22795.046481018366, 'lam_viec': -15576.437455298623, 'mot': -73623.15674297563, 'nguoi': -30073.81612504115, 'viet_nam': -22632.650025989962} lam_viec\n",
      "test_nguoi {'khong': -12891.206070599783, 'lam_viec': -6782.043251571037, 'mot': -41743.437068210915, 'nguoi': -13969.686598198188, 'viet_nam': -12518.615641215276} lam_viec\n",
      "test_nguoi {'khong': -40820.30645687034, 'lam_viec': -18647.723973847736, 'mot': -86291.51274196229, 'nguoi': -34619.914202254295, 'viet_nam': -25220.728632934246} lam_viec\n",
      "test_nguoi {'khong': -50421.61158871924, 'lam_viec': -13544.862568584665, 'mot': -51964.80913577527, 'nguoi': -36960.403051845205, 'viet_nam': -26881.9785814638} lam_viec\n",
      "test_nguoi {'khong': -21601.833473231494, 'lam_viec': -10126.392661701278, 'mot': -48233.57421226088, 'nguoi': -22667.853232675465, 'viet_nam': -12829.566080604001} lam_viec\n",
      "test_nguoi {'khong': -18957.418993521376, 'lam_viec': -11239.271551715516, 'mot': -57069.29233930203, 'nguoi': -23120.291211825406, 'viet_nam': -13771.134879618518} lam_viec\n",
      "test_nguoi {'khong': -32943.69646831371, 'lam_viec': -17864.467379239577, 'mot': -68745.0651734408, 'nguoi': -38539.435064155055, 'viet_nam': -23365.95560663811} lam_viec\n",
      "test_nguoi {'khong': -39192.81183951405, 'lam_viec': -20838.47875753731, 'mot': -78493.5445534859, 'nguoi': -36841.05079617929, 'viet_nam': -25586.210937753942} lam_viec\n",
      "test_nguoi {'khong': -23141.756533169853, 'lam_viec': -12151.425866220483, 'mot': -49365.775306099385, 'nguoi': -42936.121992146145, 'viet_nam': -18215.662154480407} lam_viec\n",
      "test_nguoi"
     ]
    },
    {
     "name": "stderr",
     "output_type": "stream",
     "text": [
      "Degenerate mixture covariance\n",
      "Degenerate mixture covariance\n",
      "Degenerate mixture covariance\n",
      "Degenerate mixture covariance\n",
      "Degenerate mixture covariance\n",
      "Degenerate mixture covariance\n",
      "Degenerate mixture covariance\n",
      "Degenerate mixture covariance\n",
      "Degenerate mixture covariance\n"
     ]
    },
    {
     "name": "stdout",
     "output_type": "stream",
     "text": [
      " {'khong': -23807.861779429215, 'lam_viec': -16450.90524539543, 'mot': -69290.41902506782, 'nguoi': -36202.74831155963, 'viet_nam': -24018.2641324291} lam_viec\n",
      "test_nguoi {'khong': -45806.786654639356, 'lam_viec': -21940.254997945878, 'mot': -81286.57386747806, 'nguoi': -42823.80122264991, 'viet_nam': -31711.928915655695} lam_viec\n",
      "test_viet_nam {'khong': -61386.47900123789, 'lam_viec': -24911.717458186824, 'mot': -75838.87871484568, 'nguoi': -61015.13150015886, 'viet_nam': -38564.407141016076} lam_viec\n",
      "test_viet_nam {'khong': -62272.350361636476, 'lam_viec': -21399.386885283344, 'mot': -74043.48079767538, 'nguoi': -57287.930505985, 'viet_nam': -33333.055335167126} lam_viec\n",
      "test_viet_nam {'khong': -53259.52344411059, 'lam_viec': -17710.186910971897, 'mot': -71342.42087009655, 'nguoi': -41302.77902445084, 'viet_nam': -27780.285560991324} lam_viec\n",
      "test_viet_nam {'khong': -48007.39327844422, 'lam_viec': -14658.0442187921, 'mot': -67609.20004977265, 'nguoi': -39772.51883932944, 'viet_nam': -22839.344823938703} lam_viec\n",
      "test_viet_nam {'khong': -76484.07837036581, 'lam_viec': -26986.45458922963, 'mot': -93804.51479268068, 'nguoi': -61241.640138591574, 'viet_nam': -44224.89087785519} lam_viec\n",
      "test_viet_nam {'khong': -60570.309171434565, 'lam_viec': -17795.83651295582, 'mot': -75869.27497711695, 'nguoi': -56158.66795528907, 'viet_nam': -32268.893105605166} lam_viec\n",
      "test_viet_nam {'khong': -59181.778214194645, 'lam_viec': -20386.5000644355, 'mot': -94916.91899908919, 'nguoi': -45597.54802262589, 'viet_nam': -29064.030021683848} lam_viec\n",
      "test_viet_nam {'khong': -59197.74411714576, 'lam_viec': -27068.159568403687, 'mot': -91874.00949568105, 'nguoi': -66133.17714795363, 'viet_nam': -42442.00092314816} lam_viec\n"
     ]
    },
    {
     "name": "stderr",
     "output_type": "stream",
     "text": [
      "Degenerate mixture covariance\n",
      "Degenerate mixture covariance\n",
      "Degenerate mixture covariance\n",
      "Degenerate mixture covariance\n",
      "Degenerate mixture covariance\n",
      "Degenerate mixture covariance\n",
      "Degenerate mixture covariance\n",
      "Degenerate mixture covariance\n",
      "Degenerate mixture covariance\n"
     ]
    },
    {
     "name": "stdout",
     "output_type": "stream",
     "text": [
      "test_viet_nam {'khong': -60136.019534764375, 'lam_viec': -22602.284750379622, 'mot': -108869.24764320772, 'nguoi': -44933.12136260425, 'viet_nam': -36463.591756686496} lam_viec\n",
      "test_viet_nam {'khong': -71755.55633404454, 'lam_viec': -23522.7343767322, 'mot': -110817.28553103865, 'nguoi': -48551.59453455548, 'viet_nam': -42604.363954763896} lam_viec\n",
      "test_viet_nam {'khong': -53665.65439532088, 'lam_viec': -19572.424809789914, 'mot': -93667.09892211122, 'nguoi': -55904.05553853198, 'viet_nam': -29782.19936278503} lam_viec\n",
      "test_viet_nam {'khong': -63538.43315346148, 'lam_viec': -19631.75082690104, 'mot': -87836.4036531817, 'nguoi': -58607.14387681369, 'viet_nam': -35759.20183729771} lam_viec\n",
      "test_viet_nam {'khong': -78635.57075593571, 'lam_viec': -30284.526484875863, 'mot': -113401.10189087738, 'nguoi': -84448.43914600965, 'viet_nam': -62741.85706190831} lam_viec\n",
      "test_viet_nam {'khong': -74445.08499678837, 'lam_viec': -28355.768839660275, 'mot': -120675.71292527138, 'nguoi': -75779.41252115433, 'viet_nam': -49355.11232072952} lam_viec\n",
      "test_viet_nam {'khong': -59636.97271792699, 'lam_viec': -20406.941384332185, 'mot': -62969.68722694324, 'nguoi': -45350.04943239286, 'viet_nam': -31652.97277867955} lam_viec\n",
      "test_viet_nam {'khong': -34117.82796076022, 'lam_viec': -19695.69745591737, 'mot': -63403.46876456033, 'nguoi': -33233.05796009075, 'viet_nam': -23959.99138631441} lam_viec\n",
      "test_viet_nam {'khong': -36898.54540415791, 'lam_viec': -20548.777910727207, 'mot': -67952.95962688899, 'nguoi': -37209.09555408083, 'viet_nam': -23875.490947868115}"
     ]
    },
    {
     "name": "stderr",
     "output_type": "stream",
     "text": [
      "Degenerate mixture covariance\n",
      "Degenerate mixture covariance\n",
      "Degenerate mixture covariance\n",
      "Degenerate mixture covariance\n",
      "Degenerate mixture covariance\n",
      "Degenerate mixture covariance\n",
      "Degenerate mixture covariance\n",
      "Degenerate mixture covariance\n"
     ]
    },
    {
     "name": "stdout",
     "output_type": "stream",
     "text": [
      " lam_viec\n",
      "test_viet_nam {'khong': -44766.888682649034, 'lam_viec': -21853.76870186616, 'mot': -82511.45930257089, 'nguoi': -42953.792312905935, 'viet_nam': -25171.24935353561} lam_viec\n",
      "test_viet_nam {'khong': -46666.158241734076, 'lam_viec': -28977.060755788512, 'mot': -83363.6662034119, 'nguoi': -55034.90969839644, 'viet_nam': -38086.924654455215} lam_viec\n",
      "test_viet_nam {'khong': -41174.75106461745, 'lam_viec': -23945.866324987743, 'mot': -80524.67432845737, 'nguoi': -39160.352619090714, 'viet_nam': -29787.660010697742} lam_viec\n",
      "test_lam_viec {'khong': -54440.85123804616, 'lam_viec': -16895.730728206992, 'mot': -76374.06382169678, 'nguoi': -38885.398428598004, 'viet_nam': -22319.808328394887} lam_viec\n",
      "test_lam_viec {'khong': -31962.135962187294, 'lam_viec': -15028.460154757804, 'mot': -63100.43693807347, 'nguoi': -38309.34469937611, 'viet_nam': -22252.59685132758} lam_viec\n",
      "test_lam_viec {'khong': -42035.54191128175, 'lam_viec': -13141.531399443435, 'mot': -56063.27114552524, 'nguoi': -31400.686690949133, 'viet_nam': -19081.821188859016} lam_viec\n",
      "test_lam_viec {'khong': -42444.0840893115, 'lam_viec': -15075.796057972713, 'mot': -64721.49300195911, 'nguoi': -40668.446435112004, 'viet_nam': -22388.005524113694} lam_viec\n",
      "test_lam_viec"
     ]
    },
    {
     "name": "stderr",
     "output_type": "stream",
     "text": [
      "Degenerate mixture covariance\n",
      "Degenerate mixture covariance\n",
      "Degenerate mixture covariance\n",
      "Degenerate mixture covariance\n",
      "Degenerate mixture covariance\n",
      "Degenerate mixture covariance\n",
      "Degenerate mixture covariance\n",
      "Degenerate mixture covariance\n"
     ]
    },
    {
     "name": "stdout",
     "output_type": "stream",
     "text": [
      " {'khong': -30425.691905577296, 'lam_viec': -11989.757343168727, 'mot': -55429.77154621848, 'nguoi': -39230.09132478395, 'viet_nam': -15718.748418600659} lam_viec\n",
      "test_lam_viec {'khong': -25609.06616364966, 'lam_viec': -11351.713902388141, 'mot': -44576.02562489597, 'nguoi': -31237.01943646422, 'viet_nam': -17315.256129177207} lam_viec\n",
      "test_lam_viec {'khong': -41110.35277068951, 'lam_viec': -17200.802301297783, 'mot': -54202.68582944265, 'nguoi': -32507.426562944613, 'viet_nam': -25734.985999753062} lam_viec\n",
      "test_lam_viec {'khong': -27236.130271821097, 'lam_viec': -12922.641280672311, 'mot': -50150.531905107106, 'nguoi': -29125.231920847542, 'viet_nam': -22560.526432360042} lam_viec\n",
      "test_lam_viec {'khong': -32722.646262758128, 'lam_viec': -13615.732725285361, 'mot': -60076.92502067388, 'nguoi': -34929.8663138809, 'viet_nam': -21988.176664529314} lam_viec\n",
      "test_lam_viec {'khong': -42927.4857366769, 'lam_viec': -14900.517019941632, 'mot': -45103.45572325522, 'nguoi': -36843.544464062914, 'viet_nam': -20795.98706359317} lam_viec\n",
      "test_lam_viec {'khong': -35694.67361795075, 'lam_viec': -12663.748313548711, 'mot': -49926.58572489406, 'nguoi': -31506.811589900535, 'viet_nam': -17232.351468989906} lam_viec\n",
      "test_lam_viec {'khong': -24472.582149287187, 'lam_viec': -11008.967764861316, 'mot': -56600.73591900375, 'nguoi': -24920.550774131414, 'viet_nam': -13699.769218714706} lam_viec\n",
      "test_lam_viec"
     ]
    },
    {
     "name": "stderr",
     "output_type": "stream",
     "text": [
      "Degenerate mixture covariance\n",
      "Degenerate mixture covariance\n",
      "Degenerate mixture covariance\n",
      "Degenerate mixture covariance\n",
      "Degenerate mixture covariance\n",
      "Degenerate mixture covariance\n",
      "Degenerate mixture covariance\n",
      "Degenerate mixture covariance\n"
     ]
    },
    {
     "name": "stdout",
     "output_type": "stream",
     "text": [
      " {'khong': -42131.7911345638, 'lam_viec': -13526.203734381059, 'mot': -52710.0546587969, 'nguoi': -25690.30316599713, 'viet_nam': -19206.281806106468} lam_viec\n",
      "test_lam_viec {'khong': -24544.765501017246, 'lam_viec': -10878.804810082032, 'mot': -42487.350102171884, 'nguoi': -23922.28262212622, 'viet_nam': -13751.33945269304} lam_viec\n",
      "test_lam_viec {'khong': -47104.294478312164, 'lam_viec': -18303.81007696852, 'mot': -77433.58887438384, 'nguoi': -39218.16975461006, 'viet_nam': -32391.134653428027} lam_viec\n",
      "test_lam_viec {'khong': -34276.49024396729, 'lam_viec': -13113.080329160297, 'mot': -51486.39301129707, 'nguoi': -37398.717493790806, 'viet_nam': -19077.24682343805} lam_viec\n",
      "test_lam_viec {'khong': -33294.57095278562, 'lam_viec': -13470.986553221848, 'mot': -55072.560543133106, 'nguoi': -30644.90587940569, 'viet_nam': -23332.278013741277} lam_viec\n",
      "test_lam_viec {'khong': -26825.744707306098, 'lam_viec': -12899.539512066698, 'mot': -42404.264049784135, 'nguoi': -26470.64671116251, 'viet_nam': -17502.77717886143} lam_viec\n",
      "test_lam_viec {'khong': -49746.56152482838, 'lam_viec': -19016.40081954479, 'mot': -67770.57566919285, 'nguoi': -47605.109200286584, 'viet_nam': -24372.391981488196} lam_viec\n",
      "test_lam_viec {'khong': -40490.84302940032, 'lam_viec': -14334.260555817964, 'mot': -76510.22409924032, 'nguoi': -36526.00838172625, 'viet_nam': -20713.493366097915} lam_viec\n",
      "test_mot"
     ]
    },
    {
     "name": "stderr",
     "output_type": "stream",
     "text": [
      "Degenerate mixture covariance\n",
      "Degenerate mixture covariance\n",
      "Degenerate mixture covariance\n",
      "Degenerate mixture covariance\n",
      "Degenerate mixture covariance\n",
      "Degenerate mixture covariance\n",
      "Degenerate mixture covariance\n",
      "Degenerate mixture covariance\n",
      "Degenerate mixture covariance\n",
      "Degenerate mixture covariance\n"
     ]
    },
    {
     "name": "stdout",
     "output_type": "stream",
     "text": [
      " {'khong': -21981.106746045545, 'lam_viec': -6366.917148347911, 'mot': -21587.06028696007, 'nguoi': -22136.61162391695, 'viet_nam': -13013.451525597817} lam_viec\n",
      "test_mot {'khong': -10763.24013209137, 'lam_viec': -6141.975820248634, 'mot': -16381.794444303503, 'nguoi': -16176.26097217597, 'viet_nam': -9603.46353946242} lam_viec\n",
      "test_mot {'khong': -27237.556754152047, 'lam_viec': -7545.793522044256, 'mot': -29022.02252238067, 'nguoi': -25567.447190959432, 'viet_nam': -13151.696934517378} lam_viec\n",
      "test_mot {'khong': -15975.302348335492, 'lam_viec': -6504.077665653765, 'mot': -24486.402247515536, 'nguoi': -18886.103360736146, 'viet_nam': -6480.636493844315} viet_nam\n",
      "test_mot {'khong': -24471.092016343173, 'lam_viec': -11010.146490700143, 'mot': -30760.7859787405, 'nguoi': -35832.76490817684, 'viet_nam': -16019.93877568789} lam_viec\n",
      "test_mot {'khong': -14480.501447545335, 'lam_viec': -6526.14792717933, 'mot': -18244.85931285056, 'nguoi': -14204.723362179668, 'viet_nam': -8694.997457908035} lam_viec\n",
      "test_mot {'khong': -20066.12253270423, 'lam_viec': -8929.55281472467, 'mot': -27384.340076433095, 'nguoi': -29086.11052869555, 'viet_nam': -11972.63446500725} lam_viec\n",
      "test_mot {'khong': -22559.113970271912, 'lam_viec': -7624.606794125133, 'mot': -27245.858869422496, 'nguoi': -19919.8774106116, 'viet_nam': -10190.788316966178} lam_viec\n",
      "test_mot {'khong': -15504.765511347443, 'lam_viec': -7912.088068807813, 'mot': -31414.860818677484, 'nguoi': -19795.71813045836, 'viet_nam': -8208.617068135323} lam_viec\n",
      "test_mot {'khong': -14826.458890378395, 'lam_viec': -6543.105941599768, 'mot': -19497.34974922942, 'nguoi': -16321.430855266317, 'viet_nam': -6483.8952433074455} viet_nam\n"
     ]
    },
    {
     "name": "stderr",
     "output_type": "stream",
     "text": [
      "Degenerate mixture covariance\n",
      "Degenerate mixture covariance\n",
      "Degenerate mixture covariance\n",
      "Degenerate mixture covariance\n",
      "Degenerate mixture covariance\n",
      "Degenerate mixture covariance\n",
      "Degenerate mixture covariance\n",
      "Degenerate mixture covariance\n",
      "Degenerate mixture covariance\n"
     ]
    },
    {
     "name": "stdout",
     "output_type": "stream",
     "text": [
      "test_mot {'khong': -19031.6416828633, 'lam_viec': -7272.9528668972425, 'mot': -23087.416076913534, 'nguoi': -18871.121482899685, 'viet_nam': -7178.58406188969} viet_nam\n",
      "test_mot {'khong': -15565.554074651884, 'lam_viec': -5562.996928293171, 'mot': -23483.801350583715, 'nguoi': -14124.683016733548, 'viet_nam': -6593.806343101098} lam_viec\n",
      "test_mot {'khong': -25037.103892481446, 'lam_viec': -8395.62377241907, 'mot': -27819.949366934587, 'nguoi': -27296.751346755176, 'viet_nam': -7951.285762262246} viet_nam\n",
      "test_mot {'khong': -55772.771585053124, 'lam_viec': -12902.182512227382, 'mot': -72159.19513652506, 'nguoi': -49787.32441657359, 'viet_nam': -34302.056054229826} lam_viec\n",
      "test_mot {'khong': -43245.94320384734, 'lam_viec': -13966.039858534645, 'mot': -50497.213131990924, 'nguoi': -51001.73242604847, 'viet_nam': -24026.41370318301} lam_viec\n",
      "test_mot {'khong': -20691.923907885615, 'lam_viec': -8371.175817755793, 'mot': -26552.04207739553, 'nguoi': -27653.2106651333, 'viet_nam': -12529.04081793375} lam_viec\n",
      "test_mot {'khong': -25946.29509883087, 'lam_viec': -10204.547729209642, 'mot': -38255.507854764954, 'nguoi': -32544.224321978843, 'viet_nam': -19619.44861192021} lam_viec\n",
      "test_mot {'khong': -28576.629893023008, 'lam_viec': -7757.643983131062, 'mot': -33987.97111852165, 'nguoi': -24341.266056410797, 'viet_nam': -12771.965080895727} lam_viec\n",
      "test_mot {'khong': -16655.0088902172, 'lam_viec': -6629.693839501498, 'mot': -26383.86579376026, 'nguoi': -23228.612145566032, 'viet_nam': -6842.706414419358} lam_viec\n",
      "test_mot"
     ]
    },
    {
     "name": "stderr",
     "output_type": "stream",
     "text": [
      "Degenerate mixture covariance\n",
      "Degenerate mixture covariance\n",
      "Degenerate mixture covariance\n",
      "Degenerate mixture covariance\n",
      "Degenerate mixture covariance\n",
      "Degenerate mixture covariance\n",
      "Degenerate mixture covariance\n",
      "Degenerate mixture covariance\n",
      "Degenerate mixture covariance\n"
     ]
    },
    {
     "name": "stdout",
     "output_type": "stream",
     "text": [
      " {'khong': -23152.34429875001, 'lam_viec': -8976.66408616356, 'mot': -24312.706470277393, 'nguoi': -32508.931937813813, 'viet_nam': -10816.108638216912} lam_viec\n",
      "test_khong {'khong': -21837.428528496795, 'lam_viec': -13277.868163488854, 'mot': -43628.217298811105, 'nguoi': -41569.911118355456, 'viet_nam': -21420.318207415232} lam_viec\n",
      "test_khong {'khong': -18976.152311604437, 'lam_viec': -12553.110903490517, 'mot': -51816.57112471713, 'nguoi': -30398.950301162207, 'viet_nam': -20287.108075388882} lam_viec\n",
      "test_khong {'khong': -17320.339757192178, 'lam_viec': -11429.345237313688, 'mot': -50597.07278255722, 'nguoi': -27677.02231486205, 'viet_nam': -18110.413529237532} lam_viec\n",
      "test_khong {'khong': -21617.359833355735, 'lam_viec': -10851.260645250086, 'mot': -35574.835652746246, 'nguoi': -29638.62640439194, 'viet_nam': -19177.375280656204} lam_viec\n",
      "test_khong {'khong': -13754.22726326807, 'lam_viec': -9043.483071306182, 'mot': -33635.93375916714, 'nguoi': -30318.946239703135, 'viet_nam': -11973.151493023452} lam_viec\n",
      "test_khong {'khong': -11971.14296286744, 'lam_viec': -8225.03118007233, 'mot': -39815.67397729401, 'nguoi': -30811.85065299755, 'viet_nam': -10994.915821243467} lam_viec\n",
      "test_khong {'khong': -16174.557585098943, 'lam_viec': -8348.302635197624, 'mot': -42116.768653531566, 'nguoi': -40960.69890720141, 'viet_nam': -14807.843701592301} lam_viec\n",
      "test_khong {'khong': -36776.707620716974, 'lam_viec': -13846.991376591086, 'mot': -53239.61813734983, 'nguoi': -38106.98474446555, 'viet_nam': -20163.214507098877} lam_viec\n",
      "test_khong"
     ]
    },
    {
     "name": "stderr",
     "output_type": "stream",
     "text": [
      "Degenerate mixture covariance\n",
      "Degenerate mixture covariance\n",
      "Degenerate mixture covariance\n",
      "Degenerate mixture covariance\n",
      "Degenerate mixture covariance\n",
      "Degenerate mixture covariance\n",
      "Degenerate mixture covariance\n",
      "Degenerate mixture covariance\n"
     ]
    },
    {
     "name": "stdout",
     "output_type": "stream",
     "text": [
      " {'khong': -38456.961459899336, 'lam_viec': -17228.568974402846, 'mot': -61904.46979585182, 'nguoi': -35810.69258357025, 'viet_nam': -24906.07472326437} lam_viec\n",
      "test_khong {'khong': -16501.417319408152, 'lam_viec': -11438.051809762537, 'mot': -43744.687004695355, 'nguoi': -32637.34651632744, 'viet_nam': -14557.15708554367} lam_viec\n",
      "test_khong {'khong': -17269.807847773143, 'lam_viec': -13767.550833810432, 'mot': -57596.02801943875, 'nguoi': -32872.186998862744, 'viet_nam': -14575.351651525132} lam_viec\n",
      "test_khong {'khong': -32476.075707031054, 'lam_viec': -15454.563635233777, 'mot': -73761.93088927641, 'nguoi': -53238.21149264745, 'viet_nam': -25096.63524648494} lam_viec\n",
      "test_khong {'khong': -21117.268568375588, 'lam_viec': -11821.195097565773, 'mot': -40025.780552840726, 'nguoi': -31565.160666679614, 'viet_nam': -22270.83096903635} lam_viec\n",
      "test_khong {'khong': -24469.974999065693, 'lam_viec': -15217.057796622857, 'mot': -72094.19488191146, 'nguoi': -47413.09749351205, 'viet_nam': -22823.483685152747} lam_viec\n",
      "test_khong {'khong': -23897.303428486965, 'lam_viec': -14337.272946195144, 'mot': -58965.07726411231, 'nguoi': -52371.07237912249, 'viet_nam': -20043.328796179903} lam_viec\n",
      "test_khong {'khong': -13772.203147700131, 'lam_viec': -12977.403665857724, 'mot': -43666.06337759434, 'nguoi': -32071.056865069233, 'viet_nam': -16063.759609352695} lam_viec\n",
      "test_khong"
     ]
    },
    {
     "name": "stderr",
     "output_type": "stream",
     "text": [
      "Degenerate mixture covariance\n",
      "Degenerate mixture covariance\n",
      "Degenerate mixture covariance\n"
     ]
    },
    {
     "name": "stdout",
     "output_type": "stream",
     "text": [
      " {'khong': -18186.89880096075, 'lam_viec': -8780.79816382857, 'mot': -36002.12749355636, 'nguoi': -35654.592815122975, 'viet_nam': -12236.68110366679} lam_viec\n",
      "test_khong {'khong': -27458.646907684102, 'lam_viec': -11538.073092391332, 'mot': -41874.718300669585, 'nguoi': -39332.448071352264, 'viet_nam': -21021.49845877801} lam_viec\n",
      "test_khong {'khong': -14195.878595602804, 'lam_viec': -10396.449937434212, 'mot': -40978.40239293046, 'nguoi': -29737.352445501903, 'viet_nam': -15066.248956391597} lam_viec\n",
      "test_khong {'khong': -9744.871280800531, 'lam_viec': -7602.9989186489875, 'mot': -36938.46400016322, 'nguoi': -25909.393214973185, 'viet_nam': -10607.656462639618} lam_viec\n",
      "ACc 0.0 0 100\n"
     ]
    }
   ],
   "source": [
    "print(\"Testing\")\n",
    "result = 0\n",
    "length = 0\n",
    "for true_cname in class_names:\n",
    "    if true_cname[:4] == \"test\":\n",
    "        for O in dataset[true_cname]:\n",
    "            length+=1\n",
    "            score = {cname: model.score(O, [len(O)]) for cname, model in models.items()}\n",
    "            print(true_cname, score, max(score.items(), key=operator.itemgetter(1))[0])\n",
    "            if true_cname == max(score.items(), key=operator.itemgetter(1))[0]:\n",
    "                result = result + 1\n",
    "print('ACc', result/length, result, length)"
   ]
  },
  {
   "cell_type": "code",
   "execution_count": null,
   "metadata": {},
   "outputs": [],
   "source": [
    "\n",
    "    models = {}\n",
    "    for cname in class_names:\n",
    "        class_vectors = dataset[cname]\n",
    "        # convert all vectors to the cluster index\n",
    "        # dataset['one'] = [O^1, ... O^R]\n",
    "        # O^r = (c1, c2, ... ct, ... cT)\n",
    "        # O^r size T x 1\n",
    "        dataset[cname] = list([kmeans.predict(v).reshape(-1,1) for v in dataset[cname]])\n",
    "        hmm = hmmlearn.hmm.MultinomialHMM(\n",
    "            n_components=8, random_state=0, n_iter=1000, verbose=True,\n",
    "            startprob_prior=np.array([0.7,0.2,0.1,0.0,0.0,0.0,0.0,0.0]),\n",
    "            transmat_prior=np.array([\n",
    "                [0.1,0.5,0.1,0.1,0.1,0.1,0.1, 0.1],\n",
    "                [0.1,0.1,0.5,0.1,0.1,0.1,0.1, 0.1],\n",
    "                [0.1,0.1,0.1,0.5,0.1,0.1,0.1, 0.1],\n",
    "                [0.1,0.1,0.1,0.1,0.5,0.1,0.1, 0.1],\n",
    "                [0.1,0.1,0.1,0.1,0.1,0.5,0.1, 0.1],\n",
    "                [0.1,0.1,0.1,0.1,0.1,0.1,0.5, 0.1],\n",
    "                [0.1, 0.1, 0.1, 0.1, 0.1, 0.1, 0.1, 0.5],\n",
    "                [0.1, 0.1, 0.1, 0.1, 0.1, 0.1, 0.1, 0.5],\n",
    "            ]),\n",
    "        )\n",
    "        if cname[:4] != 'test':\n",
    "            X = np.concatenate(dataset[cname])\n",
    "            lengths = list([len(x) for x in dataset[cname]])\n",
    "            print(\"training class\", cname)\n",
    "            print(X.shape, lengths, len(lengths))\n",
    "            hmm.fit(X, lengths=lengths)\n",
    "            models[cname] = hmm\n",
    "    print(\"Training done\")\n",
    "\n",
    "    print(\"Testing\")\n",
    "    result = 0\n",
    "    length = 0\n",
    "    for true_cname in class_names:\n",
    "        for O in dataset[true_cname]:\n",
    "            length+=1\n",
    "            score = {cname: model.score(O, [len(O)]) for cname, model in models.items()}\n",
    "            print(true_cname, score, max(score.items(), key=operator.itemgetter(1))[0])\n",
    "            if true_cname == max(score.items(), key=operator.itemgetter(1))[0]:\n",
    "                result = result + 1\n",
    "    print('ACc', result/length, result, length)"
   ]
  }
 ],
 "metadata": {
  "kernelspec": {
   "display_name": "Python 3",
   "language": "python",
   "name": "python3"
  },
  "language_info": {
   "codemirror_mode": {
    "name": "ipython",
    "version": 3
   },
   "file_extension": ".py",
   "mimetype": "text/x-python",
   "name": "python",
   "nbconvert_exporter": "python",
   "pygments_lexer": "ipython3",
   "version": "3.7.7"
  }
 },
 "nbformat": 4,
 "nbformat_minor": 4
}

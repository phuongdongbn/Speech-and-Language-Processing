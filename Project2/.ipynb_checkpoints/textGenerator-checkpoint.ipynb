{
 "cells": [
  {
   "cell_type": "code",
   "execution_count": 1,
   "metadata": {},
   "outputs": [],
   "source": [
    "import tkinter as tk\n",
    "from tkinter import *\n",
    "import tkinter.messagebox\n",
    "import pyaudio\n",
    "import wave\n",
    "import os\n",
    "import numpy as np\n",
    "import math\n",
    "import operator"
   ]
  },
  {
   "cell_type": "code",
   "execution_count": 2,
   "metadata": {},
   "outputs": [],
   "source": [
    "CHUNK = 3024\n",
    "FORMAT = pyaudio.paInt16\n",
    "CHANNELS = 2\n",
    "RATE = 44100\n",
    "WAVE_OUTPUT_FILENAME = \"output/voice.wav\""
   ]
  },
  {
   "cell_type": "code",
   "execution_count": 3,
   "metadata": {},
   "outputs": [],
   "source": [
    "p = pyaudio.PyAudio()\n",
    "recording = 0\n",
    "frames = []\n",
    "index = 0"
   ]
  },
  {
   "cell_type": "code",
   "execution_count": 15,
   "metadata": {},
   "outputs": [],
   "source": [
    "import pickle\n",
    "with open(\"modelHMM.pkl\", \"rb\") as file:\n",
    "    models = pickle.load(file)"
   ]
  },
  {
   "cell_type": "code",
   "execution_count": 5,
   "metadata": {},
   "outputs": [
    {
     "name": "stderr",
     "output_type": "stream",
     "text": [
      "C:\\Users\\PhuongDong\\miniconda3\\envs\\voice\\lib\\site-packages\\librosa\\util\\decorators.py:9: NumbaDeprecationWarning: \u001b[1mAn import was requested from a module that has moved location.\n",
      "Import requested from: 'numba.decorators', please update to use 'numba.core.decorators' or pin to Numba version 0.48.0. This alias will not be present in Numba version 0.50.0.\u001b[0m\n",
      "  from numba.decorators import jit as optional_jit\n",
      "C:\\Users\\PhuongDong\\miniconda3\\envs\\voice\\lib\\site-packages\\librosa\\util\\decorators.py:9: NumbaDeprecationWarning: \u001b[1mAn import was requested from a module that has moved location.\n",
      "Import of 'jit' requested from: 'numba.decorators', please update to use 'numba.core.decorators' or pin to Numba version 0.48.0. This alias will not be present in Numba version 0.50.0.\u001b[0m\n",
      "  from numba.decorators import jit as optional_jit\n"
     ]
    }
   ],
   "source": [
    "import functionMFCC as func"
   ]
  },
  {
   "cell_type": "code",
   "execution_count": 6,
   "metadata": {},
   "outputs": [],
   "source": [
    "stream = p.open(format=FORMAT,\n",
    "                channels=CHANNELS,\n",
    "                rate=RATE,\n",
    "                input=True,\n",
    "                frames_per_buffer=CHUNK)"
   ]
  },
  {
   "cell_type": "code",
   "execution_count": 7,
   "metadata": {},
   "outputs": [],
   "source": [
    "text_predicted = {'cua': 'của', 'viet_nam': 'Việt Nam', 'khong': 'không', 'nguoi': 'người', 'nha': 'nhà'}\n",
    "def predict_voice():\n",
    "    inp = func.get_mfcc(os.path.join(\"output\", \"voice.wav\"))\n",
    "    score = {cname: model.score(inp, [len(inp)]) for cname, model in models.items()}\n",
    "    print(score)\n",
    "    outputBox.delete(\"1.0\", END)\n",
    "    outputBox.insert(END, text_predicted[max([(value, key) for key, value in score.items()])[1]])"
   ]
  },
  {
   "cell_type": "code",
   "execution_count": 8,
   "metadata": {},
   "outputs": [],
   "source": [
    "def start_record():\n",
    "    recording = 1\n",
    "    frames.clear()\n",
    "    label['text'] = 'Đang ghi âm'\n",
    "    stream = p.open(format=FORMAT,\n",
    "                channels=CHANNELS,\n",
    "                rate=RATE,\n",
    "                input=True,\n",
    "                frames_per_buffer=CHUNK)\n",
    "    while recording == 1:\n",
    "        data = stream.read(CHUNK)\n",
    "        frames.append(data)\n",
    "        window.update()"
   ]
  },
  {
   "cell_type": "code",
   "execution_count": 9,
   "metadata": {},
   "outputs": [],
   "source": [
    "def stop_record():\n",
    "    recording = 0\n",
    "    label['text'] = 'Dự đoán là'\n",
    "    print('* stop recording')\n",
    "    stream.stop_stream()\n",
    "    stream.close()\n",
    "    wf = wave.open(WAVE_OUTPUT_FILENAME, 'wb')\n",
    "    wf.setnchannels(CHANNELS)\n",
    "    wf.setsampwidth(p.get_sample_size(FORMAT))\n",
    "    wf.setframerate(RATE)\n",
    "    wf.writeframes(b''.join(frames))\n",
    "    wf.close()\n",
    "    predict_voice()"
   ]
  },
  {
   "cell_type": "code",
   "execution_count": 17,
   "metadata": {},
   "outputs": [
    {
     "name": "stderr",
     "output_type": "stream",
     "text": [
      "Degenerate mixture covariance\n"
     ]
    },
    {
     "name": "stdout",
     "output_type": "stream",
     "text": [
      "* stop recording\n"
     ]
    },
    {
     "name": "stderr",
     "output_type": "stream",
     "text": [
      "Degenerate mixture covariance\n"
     ]
    },
    {
     "name": "stdout",
     "output_type": "stream",
     "text": [
      "* stop recording\n"
     ]
    },
    {
     "name": "stderr",
     "output_type": "stream",
     "text": [
      "Degenerate mixture covariance\n"
     ]
    },
    {
     "name": "stdout",
     "output_type": "stream",
     "text": [
      "* stop recording\n"
     ]
    },
    {
     "name": "stderr",
     "output_type": "stream",
     "text": [
      "Degenerate mixture covariance\n"
     ]
    },
    {
     "name": "stdout",
     "output_type": "stream",
     "text": [
      "* stop recording\n"
     ]
    },
    {
     "name": "stderr",
     "output_type": "stream",
     "text": [
      "Exception in Tkinter callback\n",
      "Traceback (most recent call last):\n",
      "  File \"C:\\Users\\PhuongDong\\miniconda3\\envs\\voice\\lib\\tkinter\\__init__.py\", line 1705, in __call__\n",
      "    return self.func(*args)\n",
      "  File \"<ipython-input-8-91ae551fdff6>\", line 13, in start_record\n",
      "    window.update()\n",
      "  File \"C:\\Users\\PhuongDong\\miniconda3\\envs\\voice\\lib\\tkinter\\__init__.py\", line 1177, in update\n",
      "    self.tk.call('update')\n",
      "_tkinter.TclError: can't invoke \"update\" command: application has been destroyed\n",
      "Exception in Tkinter callback\n",
      "Traceback (most recent call last):\n",
      "  File \"C:\\Users\\PhuongDong\\miniconda3\\envs\\voice\\lib\\tkinter\\__init__.py\", line 1705, in __call__\n",
      "    return self.func(*args)\n",
      "  File \"<ipython-input-8-91ae551fdff6>\", line 13, in start_record\n",
      "    window.update()\n",
      "  File \"C:\\Users\\PhuongDong\\miniconda3\\envs\\voice\\lib\\tkinter\\__init__.py\", line 1177, in update\n",
      "    self.tk.call('update')\n",
      "_tkinter.TclError: can't invoke \"update\" command: application has been destroyed\n",
      "Exception in Tkinter callback\n",
      "Traceback (most recent call last):\n",
      "  File \"C:\\Users\\PhuongDong\\miniconda3\\envs\\voice\\lib\\tkinter\\__init__.py\", line 1705, in __call__\n",
      "    return self.func(*args)\n",
      "  File \"<ipython-input-8-91ae551fdff6>\", line 13, in start_record\n",
      "    window.update()\n",
      "  File \"C:\\Users\\PhuongDong\\miniconda3\\envs\\voice\\lib\\tkinter\\__init__.py\", line 1177, in update\n",
      "    self.tk.call('update')\n",
      "_tkinter.TclError: can't invoke \"update\" command: application has been destroyed\n",
      "Exception in Tkinter callback\n",
      "Traceback (most recent call last):\n",
      "  File \"C:\\Users\\PhuongDong\\miniconda3\\envs\\voice\\lib\\tkinter\\__init__.py\", line 1705, in __call__\n",
      "    return self.func(*args)\n",
      "  File \"<ipython-input-8-91ae551fdff6>\", line 13, in start_record\n",
      "    window.update()\n",
      "  File \"C:\\Users\\PhuongDong\\miniconda3\\envs\\voice\\lib\\tkinter\\__init__.py\", line 1177, in update\n",
      "    self.tk.call('update')\n",
      "_tkinter.TclError: can't invoke \"update\" command: application has been destroyed\n"
     ]
    }
   ],
   "source": [
    "window = tk.Tk()\n",
    "window.geometry('500x200')\n",
    "window.title('Predict voice')\n",
    "button_start = tk.Button(window, text='Start', width=15, command=start_record)\n",
    "button_start.place(x=150, y=50)\n",
    "button_stop = tk.Button(window, text='Stop', width=15, command=stop_record)\n",
    "button_stop.place(x=270, y=50)\n",
    "label = tk.Label(window)\n",
    "label.place(x=230, y=100)\n",
    "outputBox = Text(window, width=30, height=1, bd=1)\n",
    "outputBox.place(x=150, y=130)\n",
    "window.mainloop()"
   ]
  }
 ],
 "metadata": {
  "kernelspec": {
   "display_name": "Python 3",
   "language": "python",
   "name": "python3"
  },
  "language_info": {
   "codemirror_mode": {
    "name": "ipython",
    "version": 3
   },
   "file_extension": ".py",
   "mimetype": "text/x-python",
   "name": "python",
   "nbconvert_exporter": "python",
   "pygments_lexer": "ipython3",
   "version": "3.7.7"
  }
 },
 "nbformat": 4,
 "nbformat_minor": 4
}

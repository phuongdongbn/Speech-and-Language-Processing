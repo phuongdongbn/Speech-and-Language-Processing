{
 "cells": [
  {
   "cell_type": "code",
   "execution_count": 1,
   "metadata": {},
   "outputs": [],
   "source": [
    "import tkinter as tk\n",
    "from tkinter import *\n",
    "import tkinter.messagebox\n",
    "import pyaudio\n",
    "import wave\n",
    "import os\n",
    "import numpy as np\n",
    "import math\n",
    "import operator"
   ]
  },
  {
   "cell_type": "code",
   "execution_count": 2,
   "metadata": {},
   "outputs": [],
   "source": [
    "CHUNK = 1024\n",
    "FORMAT = pyaudio.paInt16\n",
    "CHANNELS = 2\n",
    "RATE = 44100\n",
    "WAVE_OUTPUT_FILENAME = \"output/voice.wav\""
   ]
  },
  {
   "cell_type": "code",
   "execution_count": 6,
   "metadata": {},
   "outputs": [],
   "source": [
    "p = pyaudio.PyAudio()\n",
    "recording = 0\n",
    "frames = []\n",
    "index = 0"
   ]
  },
  {
   "cell_type": "code",
   "execution_count": 7,
   "metadata": {},
   "outputs": [],
   "source": [
    "import pickle\n",
    "with open(\"modelHMM.pkl\", \"rb\") as file:\n",
    "    models = pickle.load(file)"
   ]
  },
  {
   "cell_type": "code",
   "execution_count": 8,
   "metadata": {},
   "outputs": [],
   "source": [
    "import functionMFCC as func"
   ]
  },
  {
   "cell_type": "code",
   "execution_count": 9,
   "metadata": {},
   "outputs": [],
   "source": [
    "stream = p.open(format=FORMAT,\n",
    "                channels=CHANNELS,\n",
    "                rate=RATE,\n",
    "                input=True,\n",
    "                frames_per_buffer=CHUNK)"
   ]
  },
  {
   "cell_type": "code",
   "execution_count": 15,
   "metadata": {},
   "outputs": [],
   "source": [
    "text_predicted = {'cua': 'của', 'viet_nam': 'Việt Nam', 'khong': 'không', 'nguoi': 'người', 'nha': 'nhà'}\n",
    "def predict_voice():\n",
    "    inp = func.get_mfcc(os.path.join(\"output\", \"voice.wav\"))\n",
    "    score = {cname: model.score(inp, [len(inp)]) for cname, model in models.items()}\n",
    "    print(score)\n",
    "    text = max([(value, key) for key, value in score.items()])[1]\n",
    "    if text == 'cua' and score['cua']-score['khong']<500:\n",
    "        text = 'khong'\n",
    "    outputBox.delete(\"1.0\", END)\n",
    "    outputBox.insert(END, text_predicted[text])"
   ]
  },
  {
   "cell_type": "code",
   "execution_count": 11,
   "metadata": {},
   "outputs": [],
   "source": [
    "def start_record():\n",
    "    recording = 1\n",
    "    frames.clear()\n",
    "    label['text'] = 'Đang ghi âm'\n",
    "    stream = p.open(format=FORMAT,\n",
    "                channels=CHANNELS,\n",
    "                rate=RATE,\n",
    "                input=True,\n",
    "                frames_per_buffer=CHUNK)\n",
    "    while recording == 1:\n",
    "        data = stream.read(CHUNK)\n",
    "        frames.append(data)\n",
    "        window.update()"
   ]
  },
  {
   "cell_type": "code",
   "execution_count": 12,
   "metadata": {},
   "outputs": [],
   "source": [
    "def stop_record():\n",
    "    recording = 0\n",
    "    label['text'] = 'Dự đoán là'\n",
    "    print('* stop recording')\n",
    "    stream.stop_stream()\n",
    "    stream.close()\n",
    "    wf = wave.open(WAVE_OUTPUT_FILENAME, 'wb')\n",
    "    wf.setnchannels(CHANNELS)\n",
    "    wf.setsampwidth(p.get_sample_size(FORMAT))\n",
    "    wf.setframerate(RATE)\n",
    "    wf.writeframes(b''.join(frames))\n",
    "    wf.close()\n",
    "    predict_voice()"
   ]
  },
  {
   "cell_type": "code",
   "execution_count": 13,
   "metadata": {},
   "outputs": [],
   "source": [
    "def play_wav():\n",
    "    p_read = pyaudio.PyAudio()\n",
    "    wf_read = wave.open(os.path.join(\"output\", \"voice.wav\"), 'rb')\n",
    "    stream_read = p_read.open(format =\n",
    "                            p_read.get_format_from_width(wf_read.getsampwidth()),\n",
    "                            channels = wf_read.getnchannels(),\n",
    "                            rate = wf_read.getframerate(),\n",
    "                            output = True)\n",
    "    data = wf_read.readframes(CHUNK)\n",
    "    while data != '':\n",
    "        # writing to the stream is what *actually* plays the sound.\n",
    "        stream_read.write(data)\n",
    "        data = wf_read.readframes(CHUNK)\n",
    "        window.update()\n",
    "    stream_read.close()    \n",
    "    p_read.terminate()"
   ]
  },
  {
   "cell_type": "code",
   "execution_count": 16,
   "metadata": {},
   "outputs": [
    {
     "name": "stderr",
     "output_type": "stream",
     "text": [
      "Degenerate mixture covariance\n"
     ]
    },
    {
     "name": "stdout",
     "output_type": "stream",
     "text": [
      "* stop recording\n",
      "{'khong': -8303.171304048194, 'nha': -7497.858282499057, 'cua': -7877.820185396362, 'nguoi': -8008.82890306568, 'viet_nam': -7848.798881441874}\n"
     ]
    },
    {
     "name": "stderr",
     "output_type": "stream",
     "text": [
      "Degenerate mixture covariance\n"
     ]
    },
    {
     "name": "stdout",
     "output_type": "stream",
     "text": [
      "* stop recording\n",
      "{'khong': -7478.492289518903, 'nha': -7703.72303801121, 'cua': -7352.101002978321, 'nguoi': -7736.3547017399815, 'viet_nam': -7898.090686367277}\n"
     ]
    },
    {
     "name": "stderr",
     "output_type": "stream",
     "text": [
      "Degenerate mixture covariance\n"
     ]
    },
    {
     "name": "stdout",
     "output_type": "stream",
     "text": [
      "* stop recording\n",
      "{'khong': -8629.266830053413, 'nha': -8597.910868150408, 'cua': -7614.930742072944, 'nguoi': -8618.100047639527, 'viet_nam': -8547.689123219867}\n"
     ]
    },
    {
     "name": "stderr",
     "output_type": "stream",
     "text": [
      "Degenerate mixture covariance\n"
     ]
    },
    {
     "name": "stdout",
     "output_type": "stream",
     "text": [
      "* stop recording\n",
      "{'khong': -13577.34845646192, 'nha': -11937.143146937673, 'cua': -12666.542825107348, 'nguoi': -13173.76901334296, 'viet_nam': -12536.748888395763}\n"
     ]
    },
    {
     "name": "stderr",
     "output_type": "stream",
     "text": [
      "Degenerate mixture covariance\n"
     ]
    },
    {
     "name": "stdout",
     "output_type": "stream",
     "text": [
      "* stop recording\n",
      "{'khong': -8876.492969649791, 'nha': -8795.333889791475, 'cua': -8579.77352037931, 'nguoi': -8325.131600200057, 'viet_nam': -8916.228591121342}\n"
     ]
    },
    {
     "name": "stderr",
     "output_type": "stream",
     "text": [
      "Degenerate mixture covariance\n"
     ]
    },
    {
     "name": "stdout",
     "output_type": "stream",
     "text": [
      "* stop recording\n",
      "{'khong': -9221.595186514898, 'nha': -8348.72782253761, 'cua': -8917.587061089123, 'nguoi': -9163.30542474548, 'viet_nam': -8267.422900679629}\n"
     ]
    },
    {
     "name": "stderr",
     "output_type": "stream",
     "text": [
      "Degenerate mixture covariance\n"
     ]
    },
    {
     "name": "stdout",
     "output_type": "stream",
     "text": [
      "* stop recording\n",
      "{'khong': -9166.379331438015, 'nha': -9961.870278900513, 'cua': -9488.70839602149, 'nguoi': -9821.231334212354, 'viet_nam': -10041.12951657892}\n"
     ]
    },
    {
     "name": "stderr",
     "output_type": "stream",
     "text": [
      "Degenerate mixture covariance\n"
     ]
    },
    {
     "name": "stdout",
     "output_type": "stream",
     "text": [
      "* stop recording\n",
      "{'khong': -8864.862547023762, 'nha': -8789.864805759928, 'cua': -7629.668934954127, 'nguoi': -8946.207944868107, 'viet_nam': -8628.123121716762}\n"
     ]
    },
    {
     "name": "stderr",
     "output_type": "stream",
     "text": [
      "Exception in Tkinter callback\n",
      "Traceback (most recent call last):\n",
      "  File \"C:\\Users\\PhuongDong\\miniconda3\\envs\\voice\\lib\\tkinter\\__init__.py\", line 1705, in __call__\n",
      "    return self.func(*args)\n",
      "  File \"<ipython-input-11-91ae551fdff6>\", line 13, in start_record\n",
      "    window.update()\n",
      "  File \"C:\\Users\\PhuongDong\\miniconda3\\envs\\voice\\lib\\tkinter\\__init__.py\", line 1177, in update\n",
      "    self.tk.call('update')\n",
      "_tkinter.TclError: can't invoke \"update\" command: application has been destroyed\n",
      "Exception in Tkinter callback\n",
      "Traceback (most recent call last):\n",
      "  File \"C:\\Users\\PhuongDong\\miniconda3\\envs\\voice\\lib\\tkinter\\__init__.py\", line 1705, in __call__\n",
      "    return self.func(*args)\n",
      "  File \"<ipython-input-11-91ae551fdff6>\", line 13, in start_record\n",
      "    window.update()\n",
      "  File \"C:\\Users\\PhuongDong\\miniconda3\\envs\\voice\\lib\\tkinter\\__init__.py\", line 1177, in update\n",
      "    self.tk.call('update')\n",
      "_tkinter.TclError: can't invoke \"update\" command: application has been destroyed\n",
      "Exception in Tkinter callback\n",
      "Traceback (most recent call last):\n",
      "  File \"C:\\Users\\PhuongDong\\miniconda3\\envs\\voice\\lib\\tkinter\\__init__.py\", line 1705, in __call__\n",
      "    return self.func(*args)\n",
      "  File \"<ipython-input-11-91ae551fdff6>\", line 13, in start_record\n",
      "    window.update()\n",
      "  File \"C:\\Users\\PhuongDong\\miniconda3\\envs\\voice\\lib\\tkinter\\__init__.py\", line 1177, in update\n",
      "    self.tk.call('update')\n",
      "_tkinter.TclError: can't invoke \"update\" command: application has been destroyed\n",
      "Exception in Tkinter callback\n",
      "Traceback (most recent call last):\n",
      "  File \"C:\\Users\\PhuongDong\\miniconda3\\envs\\voice\\lib\\tkinter\\__init__.py\", line 1705, in __call__\n",
      "    return self.func(*args)\n",
      "  File \"<ipython-input-13-dd2d9b6cca57>\", line 14, in play_wav\n",
      "    window.update()\n",
      "  File \"C:\\Users\\PhuongDong\\miniconda3\\envs\\voice\\lib\\tkinter\\__init__.py\", line 1177, in update\n",
      "    self.tk.call('update')\n",
      "_tkinter.TclError: can't invoke \"update\" command: application has been destroyed\n",
      "Exception in Tkinter callback\n",
      "Traceback (most recent call last):\n",
      "  File \"C:\\Users\\PhuongDong\\miniconda3\\envs\\voice\\lib\\tkinter\\__init__.py\", line 1705, in __call__\n",
      "    return self.func(*args)\n",
      "  File \"<ipython-input-11-91ae551fdff6>\", line 13, in start_record\n",
      "    window.update()\n",
      "  File \"C:\\Users\\PhuongDong\\miniconda3\\envs\\voice\\lib\\tkinter\\__init__.py\", line 1177, in update\n",
      "    self.tk.call('update')\n",
      "_tkinter.TclError: can't invoke \"update\" command: application has been destroyed\n",
      "Exception in Tkinter callback\n",
      "Traceback (most recent call last):\n",
      "  File \"C:\\Users\\PhuongDong\\miniconda3\\envs\\voice\\lib\\tkinter\\__init__.py\", line 1705, in __call__\n",
      "    return self.func(*args)\n",
      "  File \"<ipython-input-11-91ae551fdff6>\", line 13, in start_record\n",
      "    window.update()\n",
      "  File \"C:\\Users\\PhuongDong\\miniconda3\\envs\\voice\\lib\\tkinter\\__init__.py\", line 1177, in update\n",
      "    self.tk.call('update')\n",
      "_tkinter.TclError: can't invoke \"update\" command: application has been destroyed\n",
      "Exception in Tkinter callback\n",
      "Traceback (most recent call last):\n",
      "  File \"C:\\Users\\PhuongDong\\miniconda3\\envs\\voice\\lib\\tkinter\\__init__.py\", line 1705, in __call__\n",
      "    return self.func(*args)\n",
      "  File \"<ipython-input-13-dd2d9b6cca57>\", line 14, in play_wav\n",
      "    window.update()\n",
      "  File \"C:\\Users\\PhuongDong\\miniconda3\\envs\\voice\\lib\\tkinter\\__init__.py\", line 1177, in update\n",
      "    self.tk.call('update')\n",
      "_tkinter.TclError: can't invoke \"update\" command: application has been destroyed\n",
      "Exception in Tkinter callback\n",
      "Traceback (most recent call last):\n",
      "  File \"C:\\Users\\PhuongDong\\miniconda3\\envs\\voice\\lib\\tkinter\\__init__.py\", line 1705, in __call__\n",
      "    return self.func(*args)\n",
      "  File \"<ipython-input-11-91ae551fdff6>\", line 13, in start_record\n",
      "    window.update()\n",
      "  File \"C:\\Users\\PhuongDong\\miniconda3\\envs\\voice\\lib\\tkinter\\__init__.py\", line 1177, in update\n",
      "    self.tk.call('update')\n",
      "_tkinter.TclError: can't invoke \"update\" command: application has been destroyed\n",
      "Exception in Tkinter callback\n",
      "Traceback (most recent call last):\n",
      "  File \"C:\\Users\\PhuongDong\\miniconda3\\envs\\voice\\lib\\tkinter\\__init__.py\", line 1705, in __call__\n",
      "    return self.func(*args)\n",
      "  File \"<ipython-input-11-91ae551fdff6>\", line 13, in start_record\n",
      "    window.update()\n",
      "  File \"C:\\Users\\PhuongDong\\miniconda3\\envs\\voice\\lib\\tkinter\\__init__.py\", line 1177, in update\n",
      "    self.tk.call('update')\n",
      "_tkinter.TclError: can't invoke \"update\" command: application has been destroyed\n",
      "Exception in Tkinter callback\n",
      "Traceback (most recent call last):\n",
      "  File \"C:\\Users\\PhuongDong\\miniconda3\\envs\\voice\\lib\\tkinter\\__init__.py\", line 1705, in __call__\n",
      "    return self.func(*args)\n",
      "  File \"<ipython-input-11-91ae551fdff6>\", line 13, in start_record\n",
      "    window.update()\n",
      "  File \"C:\\Users\\PhuongDong\\miniconda3\\envs\\voice\\lib\\tkinter\\__init__.py\", line 1177, in update\n",
      "    self.tk.call('update')\n",
      "_tkinter.TclError: can't invoke \"update\" command: application has been destroyed\n"
     ]
    }
   ],
   "source": [
    "window = tk.Tk()\n",
    "window.geometry('500x200')\n",
    "window.title('Predict voice')\n",
    "button_start = tk.Button(window, text='Start', width=15, command=start_record)\n",
    "button_start.place(x=70, y=50)\n",
    "button_stop = tk.Button(window, text='Stop', width=15, command=stop_record)\n",
    "button_stop.place(x=190, y=50)\n",
    "button_play = tk.Button(window, text='Play', width=15, command=play_wav)\n",
    "button_play.place(x=310, y=50)\n",
    "label = tk.Label(window)\n",
    "label.place(x=230, y=100)\n",
    "outputBox = Text(window, width=30, height=1, bd=1)\n",
    "outputBox.place(x=150, y=130)\n",
    "window.mainloop()"
   ]
  },
  {
   "cell_type": "code",
   "execution_count": null,
   "metadata": {},
   "outputs": [],
   "source": []
  }
 ],
 "metadata": {
  "kernelspec": {
   "display_name": "Python 3",
   "language": "python",
   "name": "python3"
  },
  "language_info": {
   "codemirror_mode": {
    "name": "ipython",
    "version": 3
   },
   "file_extension": ".py",
   "mimetype": "text/x-python",
   "name": "python",
   "nbconvert_exporter": "python",
   "pygments_lexer": "ipython3",
   "version": "3.7.7"
  }
 },
 "nbformat": 4,
 "nbformat_minor": 4
}

{
 "cells": [
  {
   "cell_type": "code",
   "execution_count": 1,
   "metadata": {},
   "outputs": [],
   "source": [
    "import tkinter as tk\n",
    "from tkinter import *\n",
    "import tkinter.messagebox\n",
    "import pyaudio\n",
    "import wave\n",
    "import os\n",
    "import numpy as np\n",
    "import math\n",
    "import operator"
   ]
  },
  {
   "cell_type": "code",
   "execution_count": 31,
   "metadata": {},
   "outputs": [],
   "source": [
    "CHUNK = 1024\n",
    "FORMAT = pyaudio.paInt16\n",
    "CHANNELS = 2\n",
    "RATE = 44100\n",
    "WAVE_OUTPUT_FILENAME = \"output/voice.wav\""
   ]
  },
  {
   "cell_type": "code",
   "execution_count": 6,
   "metadata": {},
   "outputs": [],
   "source": [
    "p = pyaudio.PyAudio()\n",
    "recording = 0\n",
    "frames = []\n",
    "index = 0"
   ]
  },
  {
   "cell_type": "code",
   "execution_count": 7,
   "metadata": {},
   "outputs": [],
   "source": [
    "import pickle\n",
    "with open(\"modelHMM.pkl\", \"rb\") as file:\n",
    "    models = pickle.load(file)"
   ]
  },
  {
   "cell_type": "code",
   "execution_count": 8,
   "metadata": {},
   "outputs": [],
   "source": [
    "import functionMFCC as func"
   ]
  },
  {
   "cell_type": "code",
   "execution_count": 9,
   "metadata": {},
   "outputs": [],
   "source": [
    "stream = p.open(format=FORMAT,\n",
    "                channels=CHANNELS,\n",
    "                rate=RATE,\n",
    "                input=True,\n",
    "                frames_per_buffer=CHUNK)"
   ]
  },
  {
   "cell_type": "code",
   "execution_count": 40,
   "metadata": {},
   "outputs": [],
   "source": [
    "import soundfile as sf\n",
    "import scipy as sp\n",
    "import librosa\n",
    "\n",
    "def trim_silence(y):\n",
    "    y_trimmed, index = librosa.effects.trim(y, top_db=25, frame_length=25, hop_length=500) \n",
    "    trimmed_length = librosa.get_duration(y) - librosa.get_duration(y_trimmed)\n",
    "    return y_trimmed, trimmed_length\n",
    "\n",
    "def remove_noise():\n",
    "    y,sr = librosa.load(os.path.join(\"output\", \"voice.wav\"))\n",
    "    y_reduced_median = sp.signal.medfilt(y,3) # lọc trung vị\n",
    "    y_reduced_median, time_trimmed = trim_silence(y_reduced_median)\n",
    "    sf.write(os.path.join(\"output\", \"voice_2.wav\"),y_reduced_median, sr, 'PCM_24')\n",
    "    print(f\"Remove noise: {librosa.get_duration(y)} (s) -> {librosa.get_duration(y_reduced_median)} (s)\")"
   ]
  },
  {
   "cell_type": "code",
   "execution_count": 46,
   "metadata": {},
   "outputs": [],
   "source": [
    "text_predicted = {'cua': 'của', 'viet_nam': 'Việt Nam', 'khong': 'không', 'nguoi': 'người', 'nha': 'nhà'}\n",
    "def predict_voice():\n",
    "    remove_noise()\n",
    "    inp = func.get_mfcc(os.path.join(\"output\", \"voice.wav\"))\n",
    "    score = {cname: model.score(inp, [len(inp)]) for cname, model in models.items()}\n",
    "    print(score)\n",
    "    text = max([(value, key) for key, value in score.items()])[1]\n",
    "    outputBox.delete(\"1.0\", END)\n",
    "    outputBox.insert(END, text_predicted[text])"
   ]
  },
  {
   "cell_type": "code",
   "execution_count": 11,
   "metadata": {},
   "outputs": [],
   "source": [
    "def start_record():\n",
    "    recording = 1\n",
    "    frames.clear()\n",
    "    label['text'] = 'Đang ghi âm'\n",
    "    stream = p.open(format=FORMAT,\n",
    "                channels=CHANNELS,\n",
    "                rate=RATE,\n",
    "                input=True,\n",
    "                frames_per_buffer=CHUNK)\n",
    "    while recording == 1:\n",
    "        data = stream.read(CHUNK)\n",
    "        frames.append(data)\n",
    "        window.update()"
   ]
  },
  {
   "cell_type": "code",
   "execution_count": 12,
   "metadata": {},
   "outputs": [],
   "source": [
    "def stop_record():\n",
    "    recording = 0\n",
    "    label['text'] = 'Dự đoán là'\n",
    "    print('* stop recording')\n",
    "    stream.stop_stream()\n",
    "    stream.close()\n",
    "    wf = wave.open(WAVE_OUTPUT_FILENAME, 'wb')\n",
    "    wf.setnchannels(CHANNELS)\n",
    "    wf.setsampwidth(p.get_sample_size(FORMAT))\n",
    "    wf.setframerate(RATE)\n",
    "    wf.writeframes(b''.join(frames))\n",
    "    wf.close()\n",
    "    predict_voice()"
   ]
  },
  {
   "cell_type": "code",
   "execution_count": 13,
   "metadata": {},
   "outputs": [],
   "source": [
    "def play_wav():\n",
    "    p_read = pyaudio.PyAudio()\n",
    "    wf_read = wave.open(os.path.join(\"output\", \"voice.wav\"), 'rb')\n",
    "    stream_read = p_read.open(format =\n",
    "                            p_read.get_format_from_width(wf_read.getsampwidth()),\n",
    "                            channels = wf_read.getnchannels(),\n",
    "                            rate = wf_read.getframerate(),\n",
    "                            output = True)\n",
    "    data = wf_read.readframes(CHUNK)\n",
    "    while data != '':\n",
    "        # writing to the stream is what *actually* plays the sound.\n",
    "        stream_read.write(data)\n",
    "        data = wf_read.readframes(CHUNK)\n",
    "        window.update()\n",
    "    stream_read.close()    \n",
    "    p_read.terminate()"
   ]
  },
  {
   "cell_type": "code",
   "execution_count": 47,
   "metadata": {},
   "outputs": [
    {
     "name": "stderr",
     "output_type": "stream",
     "text": [
      "Degenerate mixture covariance\n"
     ]
    },
    {
     "name": "stdout",
     "output_type": "stream",
     "text": [
      "* stop recording\n",
      "Remove noise: 0.8359183673469388 (s) -> 0.6122448979591837 (s)\n",
      "{'khong': -9824.627201898827, 'nha': -10724.987042863864, 'cua': -10012.854457371483, 'nguoi': -10384.378771776497, 'viet_nam': -10419.063062412115}\n"
     ]
    },
    {
     "name": "stderr",
     "output_type": "stream",
     "text": [
      "Degenerate mixture covariance\n"
     ]
    },
    {
     "name": "stdout",
     "output_type": "stream",
     "text": [
      "* stop recording\n",
      "Remove noise: 0.603718820861678 (s) -> 0.603718820861678 (s)\n",
      "{'khong': -6613.593295170455, 'nha': -6017.876916950233, 'cua': -6373.66861516804, 'nguoi': -6491.016864155855, 'viet_nam': -6359.122608511235}\n"
     ]
    },
    {
     "name": "stderr",
     "output_type": "stream",
     "text": [
      "Degenerate mixture covariance\n"
     ]
    },
    {
     "name": "stdout",
     "output_type": "stream",
     "text": [
      "* stop recording\n",
      "Remove noise: 0.7894784580498866 (s) -> 0.7894784580498866 (s)\n",
      "{'khong': -9159.151684643304, 'nha': -8990.902958095241, 'cua': -9002.127472409506, 'nguoi': -9000.67417554529, 'viet_nam': -8422.758362451335}\n"
     ]
    },
    {
     "name": "stderr",
     "output_type": "stream",
     "text": [
      "Degenerate mixture covariance\n"
     ]
    },
    {
     "name": "stdout",
     "output_type": "stream",
     "text": [
      "* stop recording\n",
      "Remove noise: 0.9287981859410431 (s) -> 0.8390022675736961 (s)\n",
      "{'khong': -10819.150694280994, 'nha': -10859.878009393706, 'cua': -10544.688190540159, 'nguoi': -10333.604795031328, 'viet_nam': -10706.044932462499}\n"
     ]
    },
    {
     "name": "stderr",
     "output_type": "stream",
     "text": [
      "Degenerate mixture covariance\n"
     ]
    },
    {
     "name": "stdout",
     "output_type": "stream",
     "text": [
      "* stop recording\n",
      "Remove noise: 0.7430385487528345 (s) -> 0.7029478458049887 (s)\n",
      "{'khong': -8147.373335858411, 'nha': -7858.866821751995, 'cua': -7926.090597747229, 'nguoi': -8047.414101844843, 'viet_nam': -8186.875615427269}\n"
     ]
    },
    {
     "name": "stderr",
     "output_type": "stream",
     "text": [
      "Degenerate mixture covariance\n"
     ]
    },
    {
     "name": "stdout",
     "output_type": "stream",
     "text": [
      "* stop recording\n",
      "Remove noise: 1.0216780045351475 (s) -> 0.9990022675736961 (s)\n",
      "{'khong': -11533.326060380668, 'nha': -11341.27159884764, 'cua': -11226.055556308716, 'nguoi': -11418.122840292392, 'viet_nam': -10875.753888924326}\n"
     ]
    },
    {
     "name": "stderr",
     "output_type": "stream",
     "text": [
      "Degenerate mixture covariance\n"
     ]
    },
    {
     "name": "stdout",
     "output_type": "stream",
     "text": [
      "* stop recording\n",
      "Remove noise: 0.7198185941043084 (s) -> 0.7198185941043084 (s)\n",
      "{'khong': -7669.865380423103, 'nha': -7505.016810828248, 'cua': -7159.599983730663, 'nguoi': -7424.253591937801, 'viet_nam': -7428.645036781688}\n"
     ]
    },
    {
     "name": "stderr",
     "output_type": "stream",
     "text": [
      "Degenerate mixture covariance\n"
     ]
    },
    {
     "name": "stdout",
     "output_type": "stream",
     "text": [
      "* stop recording\n",
      "Remove noise: 0.9984580498866213 (s) -> 0.6575963718820862 (s)\n",
      "{'khong': -11549.411548300872, 'nha': -11498.997654897928, 'cua': -11015.02589667146, 'nguoi': -11273.663835966156, 'viet_nam': -11530.053748175944}\n"
     ]
    },
    {
     "name": "stderr",
     "output_type": "stream",
     "text": [
      "Degenerate mixture covariance\n"
     ]
    },
    {
     "name": "stdout",
     "output_type": "stream",
     "text": [
      "* stop recording\n",
      "Remove noise: 1.6021768707482993 (s) -> 1.6021768707482993 (s)\n",
      "{'khong': -17001.797541530235, 'nha': -16948.4991513534, 'cua': -16845.67501186507, 'nguoi': -16826.544248628885, 'viet_nam': -16782.811852142353}\n"
     ]
    },
    {
     "name": "stderr",
     "output_type": "stream",
     "text": [
      "Exception in Tkinter callback\n",
      "Traceback (most recent call last):\n",
      "  File \"C:\\Users\\PhuongDong\\miniconda3\\envs\\voice\\lib\\tkinter\\__init__.py\", line 1705, in __call__\n",
      "    return self.func(*args)\n",
      "  File \"<ipython-input-11-91ae551fdff6>\", line 13, in start_record\n",
      "    window.update()\n",
      "  File \"C:\\Users\\PhuongDong\\miniconda3\\envs\\voice\\lib\\tkinter\\__init__.py\", line 1177, in update\n",
      "    self.tk.call('update')\n",
      "_tkinter.TclError: can't invoke \"update\" command: application has been destroyed\n",
      "Exception in Tkinter callback\n",
      "Traceback (most recent call last):\n",
      "  File \"C:\\Users\\PhuongDong\\miniconda3\\envs\\voice\\lib\\tkinter\\__init__.py\", line 1705, in __call__\n",
      "    return self.func(*args)\n",
      "  File \"<ipython-input-11-91ae551fdff6>\", line 13, in start_record\n",
      "    window.update()\n",
      "  File \"C:\\Users\\PhuongDong\\miniconda3\\envs\\voice\\lib\\tkinter\\__init__.py\", line 1177, in update\n",
      "    self.tk.call('update')\n",
      "_tkinter.TclError: can't invoke \"update\" command: application has been destroyed\n",
      "Exception in Tkinter callback\n",
      "Traceback (most recent call last):\n",
      "  File \"C:\\Users\\PhuongDong\\miniconda3\\envs\\voice\\lib\\tkinter\\__init__.py\", line 1705, in __call__\n",
      "    return self.func(*args)\n",
      "  File \"<ipython-input-11-91ae551fdff6>\", line 13, in start_record\n",
      "    window.update()\n",
      "  File \"C:\\Users\\PhuongDong\\miniconda3\\envs\\voice\\lib\\tkinter\\__init__.py\", line 1177, in update\n",
      "    self.tk.call('update')\n",
      "_tkinter.TclError: can't invoke \"update\" command: application has been destroyed\n",
      "Exception in Tkinter callback\n",
      "Traceback (most recent call last):\n",
      "  File \"C:\\Users\\PhuongDong\\miniconda3\\envs\\voice\\lib\\tkinter\\__init__.py\", line 1705, in __call__\n",
      "    return self.func(*args)\n",
      "  File \"<ipython-input-11-91ae551fdff6>\", line 13, in start_record\n",
      "    window.update()\n",
      "  File \"C:\\Users\\PhuongDong\\miniconda3\\envs\\voice\\lib\\tkinter\\__init__.py\", line 1177, in update\n",
      "    self.tk.call('update')\n",
      "_tkinter.TclError: can't invoke \"update\" command: application has been destroyed\n",
      "Exception in Tkinter callback\n",
      "Traceback (most recent call last):\n",
      "  File \"C:\\Users\\PhuongDong\\miniconda3\\envs\\voice\\lib\\tkinter\\__init__.py\", line 1705, in __call__\n",
      "    return self.func(*args)\n",
      "  File \"<ipython-input-11-91ae551fdff6>\", line 13, in start_record\n",
      "    window.update()\n",
      "  File \"C:\\Users\\PhuongDong\\miniconda3\\envs\\voice\\lib\\tkinter\\__init__.py\", line 1177, in update\n",
      "    self.tk.call('update')\n",
      "_tkinter.TclError: can't invoke \"update\" command: application has been destroyed\n",
      "Exception in Tkinter callback\n",
      "Traceback (most recent call last):\n",
      "  File \"C:\\Users\\PhuongDong\\miniconda3\\envs\\voice\\lib\\tkinter\\__init__.py\", line 1705, in __call__\n",
      "    return self.func(*args)\n",
      "  File \"<ipython-input-11-91ae551fdff6>\", line 13, in start_record\n",
      "    window.update()\n",
      "  File \"C:\\Users\\PhuongDong\\miniconda3\\envs\\voice\\lib\\tkinter\\__init__.py\", line 1177, in update\n",
      "    self.tk.call('update')\n",
      "_tkinter.TclError: can't invoke \"update\" command: application has been destroyed\n",
      "Exception in Tkinter callback\n",
      "Traceback (most recent call last):\n",
      "  File \"C:\\Users\\PhuongDong\\miniconda3\\envs\\voice\\lib\\tkinter\\__init__.py\", line 1705, in __call__\n",
      "    return self.func(*args)\n",
      "  File \"<ipython-input-11-91ae551fdff6>\", line 13, in start_record\n",
      "    window.update()\n",
      "  File \"C:\\Users\\PhuongDong\\miniconda3\\envs\\voice\\lib\\tkinter\\__init__.py\", line 1177, in update\n",
      "    self.tk.call('update')\n",
      "_tkinter.TclError: can't invoke \"update\" command: application has been destroyed\n",
      "Exception in Tkinter callback\n",
      "Traceback (most recent call last):\n",
      "  File \"C:\\Users\\PhuongDong\\miniconda3\\envs\\voice\\lib\\tkinter\\__init__.py\", line 1705, in __call__\n",
      "    return self.func(*args)\n",
      "  File \"<ipython-input-11-91ae551fdff6>\", line 13, in start_record\n",
      "    window.update()\n",
      "  File \"C:\\Users\\PhuongDong\\miniconda3\\envs\\voice\\lib\\tkinter\\__init__.py\", line 1177, in update\n",
      "    self.tk.call('update')\n",
      "_tkinter.TclError: can't invoke \"update\" command: application has been destroyed\n",
      "Exception in Tkinter callback\n",
      "Traceback (most recent call last):\n",
      "  File \"C:\\Users\\PhuongDong\\miniconda3\\envs\\voice\\lib\\tkinter\\__init__.py\", line 1705, in __call__\n",
      "    return self.func(*args)\n",
      "  File \"<ipython-input-11-91ae551fdff6>\", line 13, in start_record\n",
      "    window.update()\n",
      "  File \"C:\\Users\\PhuongDong\\miniconda3\\envs\\voice\\lib\\tkinter\\__init__.py\", line 1177, in update\n",
      "    self.tk.call('update')\n",
      "_tkinter.TclError: can't invoke \"update\" command: application has been destroyed\n"
     ]
    }
   ],
   "source": [
    "window = tk.Tk()\n",
    "window.geometry('500x200')\n",
    "window.title('Predict voice')\n",
    "button_start = tk.Button(window, text='Start', width=15, command=start_record)\n",
    "button_start.place(x=70, y=50)\n",
    "button_stop = tk.Button(window, text='Stop', width=15, command=stop_record)\n",
    "button_stop.place(x=190, y=50)\n",
    "button_play = tk.Button(window, text='Play', width=15, command=play_wav)\n",
    "button_play.place(x=310, y=50)\n",
    "label = tk.Label(window)\n",
    "label.place(x=230, y=100)\n",
    "outputBox = Text(window, width=30, height=1, bd=1)\n",
    "outputBox.place(x=150, y=130)\n",
    "window.mainloop()"
   ]
  },
  {
   "cell_type": "code",
   "execution_count": null,
   "metadata": {},
   "outputs": [],
   "source": []
  }
 ],
 "metadata": {
  "kernelspec": {
   "display_name": "Python 3",
   "language": "python",
   "name": "python3"
  },
  "language_info": {
   "codemirror_mode": {
    "name": "ipython",
    "version": 3
   },
   "file_extension": ".py",
   "mimetype": "text/x-python",
   "name": "python",
   "nbconvert_exporter": "python",
   "pygments_lexer": "ipython3",
   "version": "3.7.7"
  }
 },
 "nbformat": 4,
 "nbformat_minor": 4
}

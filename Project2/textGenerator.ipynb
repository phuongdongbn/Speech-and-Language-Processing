{
 "cells": [
  {
   "cell_type": "code",
   "execution_count": 1,
   "metadata": {},
   "outputs": [],
   "source": [
    "import tkinter as tk\n",
    "from tkinter import *\n",
    "import tkinter.messagebox\n",
    "import pyaudio\n",
    "import wave\n",
    "import os\n",
    "import numpy as np\n",
    "import math\n",
    "import operator"
   ]
  },
  {
   "cell_type": "code",
   "execution_count": 2,
   "metadata": {},
   "outputs": [],
   "source": [
    "CHUNK = 1024\n",
    "FORMAT = pyaudio.paInt16\n",
    "CHANNELS = 2\n",
    "RATE = 44100\n",
    "WAVE_OUTPUT_FILENAME = \"output/voice.wav\""
   ]
  },
  {
   "cell_type": "code",
   "execution_count": 3,
   "metadata": {},
   "outputs": [],
   "source": [
    "p = pyaudio.PyAudio()\n",
    "recording = 0\n",
    "frames = []\n",
    "index = 0"
   ]
  },
  {
   "cell_type": "code",
   "execution_count": 4,
   "metadata": {},
   "outputs": [],
   "source": [
    "import pickle\n",
    "with open(\"modelHMM.pkl\", \"rb\") as file:\n",
    "    models = pickle.load(file)"
   ]
  },
  {
   "cell_type": "code",
   "execution_count": 5,
   "metadata": {},
   "outputs": [
    {
     "name": "stderr",
     "output_type": "stream",
     "text": [
      "C:\\Users\\PhuongDong\\miniconda3\\envs\\voice\\lib\\site-packages\\librosa\\util\\decorators.py:9: NumbaDeprecationWarning: \u001b[1mAn import was requested from a module that has moved location.\n",
      "Import requested from: 'numba.decorators', please update to use 'numba.core.decorators' or pin to Numba version 0.48.0. This alias will not be present in Numba version 0.50.0.\u001b[0m\n",
      "  from numba.decorators import jit as optional_jit\n",
      "C:\\Users\\PhuongDong\\miniconda3\\envs\\voice\\lib\\site-packages\\librosa\\util\\decorators.py:9: NumbaDeprecationWarning: \u001b[1mAn import was requested from a module that has moved location.\n",
      "Import of 'jit' requested from: 'numba.decorators', please update to use 'numba.core.decorators' or pin to Numba version 0.48.0. This alias will not be present in Numba version 0.50.0.\u001b[0m\n",
      "  from numba.decorators import jit as optional_jit\n"
     ]
    }
   ],
   "source": [
    "import functionMFCC as func"
   ]
  },
  {
   "cell_type": "code",
   "execution_count": 6,
   "metadata": {},
   "outputs": [],
   "source": [
    "stream = p.open(format=FORMAT,\n",
    "                channels=CHANNELS,\n",
    "                rate=RATE,\n",
    "                input=True,\n",
    "                frames_per_buffer=CHUNK)"
   ]
  },
  {
   "cell_type": "code",
   "execution_count": 7,
   "metadata": {},
   "outputs": [],
   "source": [
    "import soundfile as sf\n",
    "import scipy as sp\n",
    "import librosa\n",
    "\n",
    "def trim_silence(y):\n",
    "    y_trimmed, index = librosa.effects.trim(y, top_db=25, frame_length=25, hop_length=500) \n",
    "    trimmed_length = librosa.get_duration(y) - librosa.get_duration(y_trimmed)\n",
    "    return y_trimmed, trimmed_length\n",
    "\n",
    "def remove_noise():\n",
    "    y,sr = librosa.load(os.path.join(\"output\", \"voice.wav\"))\n",
    "    y_reduced_median = sp.signal.medfilt(y,3) # lọc trung vị\n",
    "    y_reduced_median, time_trimmed = trim_silence(y_reduced_median)\n",
    "    sf.write(os.path.join(\"output\", \"voice_2.wav\"),y_reduced_median, sr, 'PCM_24')\n",
    "    print(f\"Remove noise: {librosa.get_duration(y)} (s) -> {librosa.get_duration(y_reduced_median)} (s)\")"
   ]
  },
  {
   "cell_type": "code",
   "execution_count": 8,
   "metadata": {},
   "outputs": [],
   "source": [
    "text_predicted = {'cua': 'của', 'viet_nam': 'Việt Nam', 'khong': 'không', 'nguoi': 'người', 'nha': 'nhà'}\n",
    "def predict_voice():\n",
    "    remove_noise()\n",
    "    inp = func.get_mfcc(os.path.join(\"output\", \"voice.wav\"))\n",
    "    score = {cname: model.score(inp, [len(inp)]) for cname, model in models.items()}\n",
    "    print(score)\n",
    "    text = max([(value, key) for key, value in score.items()])[1]\n",
    "    outputBox.delete(\"1.0\", END)\n",
    "    outputBox.insert(END, text_predicted[text])"
   ]
  },
  {
   "cell_type": "code",
   "execution_count": 9,
   "metadata": {},
   "outputs": [],
   "source": [
    "def start_record():\n",
    "    recording = 1\n",
    "    frames.clear()\n",
    "    label['text'] = 'Đang ghi âm'\n",
    "    stream = p.open(format=FORMAT,\n",
    "                channels=CHANNELS,\n",
    "                rate=RATE,\n",
    "                input=True,\n",
    "                frames_per_buffer=CHUNK)\n",
    "    while recording == 1:\n",
    "        data = stream.read(CHUNK)\n",
    "        frames.append(data)\n",
    "        window.update()"
   ]
  },
  {
   "cell_type": "code",
   "execution_count": 10,
   "metadata": {},
   "outputs": [],
   "source": [
    "def stop_record():\n",
    "    recording = 0\n",
    "    label['text'] = 'Dự đoán là'\n",
    "    print('* stop recording')\n",
    "    stream.stop_stream()\n",
    "    stream.close()\n",
    "    wf = wave.open(WAVE_OUTPUT_FILENAME, 'wb')\n",
    "    wf.setnchannels(CHANNELS)\n",
    "    wf.setsampwidth(p.get_sample_size(FORMAT))\n",
    "    wf.setframerate(RATE)\n",
    "    wf.writeframes(b''.join(frames))\n",
    "    wf.close()\n",
    "    predict_voice()"
   ]
  },
  {
   "cell_type": "code",
   "execution_count": 11,
   "metadata": {},
   "outputs": [],
   "source": [
    "def play_wav():\n",
    "    p_read = pyaudio.PyAudio()\n",
    "    wf_read = wave.open(os.path.join(\"output\", \"voice.wav\"), 'rb')\n",
    "    stream_read = p_read.open(format =\n",
    "                            p_read.get_format_from_width(wf_read.getsampwidth()),\n",
    "                            channels = wf_read.getnchannels(),\n",
    "                            rate = wf_read.getframerate(),\n",
    "                            output = True)\n",
    "    data = wf_read.readframes(CHUNK)\n",
    "    while data != '':\n",
    "        # writing to the stream is what *actually* plays the sound.\n",
    "        stream_read.write(data)\n",
    "        data = wf_read.readframes(CHUNK)\n",
    "        window.update()\n",
    "    stream_read.close()    \n",
    "    p_read.terminate()"
   ]
  },
  {
   "cell_type": "code",
   "execution_count": 12,
   "metadata": {},
   "outputs": [
    {
     "name": "stdout",
     "output_type": "stream",
     "text": [
      "* stop recording\n"
     ]
    },
    {
     "name": "stderr",
     "output_type": "stream",
     "text": [
      "Degenerate mixture covariance\n"
     ]
    },
    {
     "name": "stdout",
     "output_type": "stream",
     "text": [
      "Remove noise: 0.7430385487528345 (s) -> 0.49360544217687075 (s)\n",
      "{'khong': -9238.935145680642, 'nha': -8613.339475989269, 'cua': -8452.746115012593, 'nguoi': -8611.251217690116, 'viet_nam': -9005.339966456744}\n"
     ]
    },
    {
     "name": "stderr",
     "output_type": "stream",
     "text": [
      "Degenerate mixture covariance\n"
     ]
    },
    {
     "name": "stdout",
     "output_type": "stream",
     "text": [
      "* stop recording\n",
      "Remove noise: 0.6501587301587302 (s) -> 0.5215419501133787 (s)\n",
      "{'khong': -7514.37455067848, 'nha': -7286.79453337105, 'cua': -7323.8960757387795, 'nguoi': -7643.278605564454, 'viet_nam': -7679.272988636395}\n"
     ]
    },
    {
     "name": "stderr",
     "output_type": "stream",
     "text": [
      "Degenerate mixture covariance\n"
     ]
    },
    {
     "name": "stdout",
     "output_type": "stream",
     "text": [
      "* stop recording\n",
      "Remove noise: 0.7430385487528345 (s) -> 0.7203628117913832 (s)\n",
      "{'khong': -8519.262526433984, 'nha': -8881.272582250196, 'cua': -8121.281983817676, 'nguoi': -8728.90133794553, 'viet_nam': -8451.229211605569}\n"
     ]
    },
    {
     "name": "stderr",
     "output_type": "stream",
     "text": [
      "Degenerate mixture covariance\n"
     ]
    },
    {
     "name": "stdout",
     "output_type": "stream",
     "text": [
      "* stop recording\n",
      "Remove noise: 0.8359183673469388 (s) -> 0.5668934240362812 (s)\n",
      "{'khong': -10187.271466190663, 'nha': -9887.191059463856, 'cua': -9884.954371106347, 'nguoi': -10210.832341835863, 'viet_nam': -9948.359566167528}\n"
     ]
    },
    {
     "name": "stderr",
     "output_type": "stream",
     "text": [
      "Degenerate mixture covariance\n"
     ]
    },
    {
     "name": "stdout",
     "output_type": "stream",
     "text": [
      "* stop recording\n",
      "Remove noise: 0.7198185941043084 (s) -> 0.7198185941043084 (s)\n",
      "{'khong': -8545.454668732695, 'nha': -8610.527743319159, 'cua': -8360.497376423118, 'nguoi': -8224.192147181484, 'viet_nam': -8569.790452201281}\n"
     ]
    },
    {
     "name": "stderr",
     "output_type": "stream",
     "text": [
      "Degenerate mixture covariance\n"
     ]
    },
    {
     "name": "stdout",
     "output_type": "stream",
     "text": [
      "* stop recording\n",
      "Remove noise: 0.7662585034013606 (s) -> 0.6075283446712018 (s)\n",
      "{'khong': -8888.472396007492, 'nha': -8507.600714178849, 'cua': -8622.04045222257, 'nguoi': -8997.046473421287, 'viet_nam': -8318.88180792611}\n"
     ]
    },
    {
     "name": "stderr",
     "output_type": "stream",
     "text": [
      "Exception in Tkinter callback\n",
      "Traceback (most recent call last):\n",
      "  File \"C:\\Users\\PhuongDong\\miniconda3\\envs\\voice\\lib\\tkinter\\__init__.py\", line 1705, in __call__\n",
      "    return self.func(*args)\n",
      "  File \"<ipython-input-9-91ae551fdff6>\", line 13, in start_record\n",
      "    window.update()\n",
      "  File \"C:\\Users\\PhuongDong\\miniconda3\\envs\\voice\\lib\\tkinter\\__init__.py\", line 1177, in update\n",
      "    self.tk.call('update')\n",
      "_tkinter.TclError: can't invoke \"update\" command: application has been destroyed\n",
      "Exception in Tkinter callback\n",
      "Traceback (most recent call last):\n",
      "  File \"C:\\Users\\PhuongDong\\miniconda3\\envs\\voice\\lib\\tkinter\\__init__.py\", line 1705, in __call__\n",
      "    return self.func(*args)\n",
      "  File \"<ipython-input-9-91ae551fdff6>\", line 13, in start_record\n",
      "    window.update()\n",
      "  File \"C:\\Users\\PhuongDong\\miniconda3\\envs\\voice\\lib\\tkinter\\__init__.py\", line 1177, in update\n",
      "    self.tk.call('update')\n",
      "_tkinter.TclError: can't invoke \"update\" command: application has been destroyed\n",
      "Exception in Tkinter callback\n",
      "Traceback (most recent call last):\n",
      "  File \"C:\\Users\\PhuongDong\\miniconda3\\envs\\voice\\lib\\tkinter\\__init__.py\", line 1705, in __call__\n",
      "    return self.func(*args)\n",
      "  File \"<ipython-input-9-91ae551fdff6>\", line 13, in start_record\n",
      "    window.update()\n",
      "  File \"C:\\Users\\PhuongDong\\miniconda3\\envs\\voice\\lib\\tkinter\\__init__.py\", line 1177, in update\n",
      "    self.tk.call('update')\n",
      "_tkinter.TclError: can't invoke \"update\" command: application has been destroyed\n",
      "Exception in Tkinter callback\n",
      "Traceback (most recent call last):\n",
      "  File \"C:\\Users\\PhuongDong\\miniconda3\\envs\\voice\\lib\\tkinter\\__init__.py\", line 1705, in __call__\n",
      "    return self.func(*args)\n",
      "  File \"<ipython-input-9-91ae551fdff6>\", line 13, in start_record\n",
      "    window.update()\n",
      "  File \"C:\\Users\\PhuongDong\\miniconda3\\envs\\voice\\lib\\tkinter\\__init__.py\", line 1177, in update\n",
      "    self.tk.call('update')\n",
      "_tkinter.TclError: can't invoke \"update\" command: application has been destroyed\n",
      "Exception in Tkinter callback\n",
      "Traceback (most recent call last):\n",
      "  File \"C:\\Users\\PhuongDong\\miniconda3\\envs\\voice\\lib\\tkinter\\__init__.py\", line 1705, in __call__\n",
      "    return self.func(*args)\n",
      "  File \"<ipython-input-9-91ae551fdff6>\", line 13, in start_record\n",
      "    window.update()\n",
      "  File \"C:\\Users\\PhuongDong\\miniconda3\\envs\\voice\\lib\\tkinter\\__init__.py\", line 1177, in update\n",
      "    self.tk.call('update')\n",
      "_tkinter.TclError: can't invoke \"update\" command: application has been destroyed\n",
      "Exception in Tkinter callback\n",
      "Traceback (most recent call last):\n",
      "  File \"C:\\Users\\PhuongDong\\miniconda3\\envs\\voice\\lib\\tkinter\\__init__.py\", line 1705, in __call__\n",
      "    return self.func(*args)\n",
      "  File \"<ipython-input-9-91ae551fdff6>\", line 13, in start_record\n",
      "    window.update()\n",
      "  File \"C:\\Users\\PhuongDong\\miniconda3\\envs\\voice\\lib\\tkinter\\__init__.py\", line 1177, in update\n",
      "    self.tk.call('update')\n",
      "_tkinter.TclError: can't invoke \"update\" command: application has been destroyed\n"
     ]
    }
   ],
   "source": [
    "window = tk.Tk()\n",
    "window.geometry('500x200')\n",
    "window.title('Predict voice')\n",
    "button_start = tk.Button(window, text='Start', width=15, command=start_record)\n",
    "button_start.place(x=70, y=50)\n",
    "button_stop = tk.Button(window, text='Stop', width=15, command=stop_record)\n",
    "button_stop.place(x=190, y=50)\n",
    "button_play = tk.Button(window, text='Play', width=15, command=play_wav)\n",
    "button_play.place(x=310, y=50)\n",
    "label = tk.Label(window)\n",
    "label.place(x=230, y=100)\n",
    "outputBox = Text(window, width=30, height=1, bd=1)\n",
    "outputBox.place(x=150, y=130)\n",
    "window.mainloop()"
   ]
  },
  {
   "cell_type": "code",
   "execution_count": null,
   "metadata": {},
   "outputs": [],
   "source": []
  }
 ],
 "metadata": {
  "kernelspec": {
   "display_name": "Python 3",
   "language": "python",
   "name": "python3"
  },
  "language_info": {
   "codemirror_mode": {
    "name": "ipython",
    "version": 3
   },
   "file_extension": ".py",
   "mimetype": "text/x-python",
   "name": "python",
   "nbconvert_exporter": "python",
   "pygments_lexer": "ipython3",
   "version": "3.7.7"
  }
 },
 "nbformat": 4,
 "nbformat_minor": 4
}

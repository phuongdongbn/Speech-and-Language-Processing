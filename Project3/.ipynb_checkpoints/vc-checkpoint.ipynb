{
 "cells": [
  {
   "cell_type": "code",
   "execution_count": 1,
   "metadata": {},
   "outputs": [],
   "source": [
    "import tkinter as tk\n",
    "from tkinter import *\n",
    "import tkinter.messagebox\n",
    "import pyaudio\n",
    "import wave\n",
    "import os\n",
    "import numpy as np\n",
    "import math\n",
    "import operator"
   ]
  },
  {
   "cell_type": "code",
   "execution_count": 48,
   "metadata": {},
   "outputs": [],
   "source": [
    "CHUNK = 1024\n",
    "FORMAT = pyaudio.paInt16\n",
    "CHANNELS = 1\n",
    "RATE = 44100\n",
    "FILE_NAME = 'input/voice.wav'"
   ]
  },
  {
   "cell_type": "code",
   "execution_count": 3,
   "metadata": {},
   "outputs": [],
   "source": [
    "p = pyaudio.PyAudio()\n",
    "recording = 0\n",
    "frames = []"
   ]
  },
  {
   "cell_type": "code",
   "execution_count": 4,
   "metadata": {},
   "outputs": [],
   "source": [
    "stream = p.open(format=FORMAT,\n",
    "                channels=CHANNELS,\n",
    "                rate=RATE,\n",
    "                input=True,\n",
    "                frames_per_buffer=CHUNK)"
   ]
  },
  {
   "cell_type": "code",
   "execution_count": 6,
   "metadata": {},
   "outputs": [],
   "source": [
    "def start_record():\n",
    "    recording = 1\n",
    "    frames.clear()\n",
    "    label['text'] = 'Đang ghi âm'\n",
    "    stream = p.open(format=FORMAT,\n",
    "                channels=CHANNELS,\n",
    "                rate=RATE,\n",
    "                input=True,\n",
    "                frames_per_buffer=CHUNK)\n",
    "    while recording == 1:\n",
    "        data = stream.read(CHUNK)\n",
    "        frames.append(data)\n",
    "        window.update()"
   ]
  },
  {
   "cell_type": "code",
   "execution_count": 49,
   "metadata": {},
   "outputs": [],
   "source": [
    "def stop_record(): \n",
    "    recording = 0\n",
    "    label['text'] = 'Ghi âm xong'\n",
    "    print('* stop recording')\n",
    "    stream.stop_stream()\n",
    "    stream.close()\n",
    "    wf = wave.open(FILE_NAME, 'wb')\n",
    "    wf.setnchannels(CHANNELS)\n",
    "    wf.setsampwidth(p.get_sample_size(FORMAT))\n",
    "    wf.setframerate(RATE)\n",
    "    wf.writeframes(b''.join(frames))\n",
    "    wf.close()"
   ]
  },
  {
   "cell_type": "code",
   "execution_count": 53,
   "metadata": {},
   "outputs": [],
   "source": [
    "def play_wav(c):\n",
    "    p_read = pyaudio.PyAudio()\n",
    "    wf_read = wave.open(c, 'rb')\n",
    "    stream_read = p_read.open(format =\n",
    "                            p_read.get_format_from_width(wf_read.getsampwidth()),\n",
    "                            channels = wf_read.getnchannels(),\n",
    "                            rate = wf_read.getframerate(),\n",
    "                            output = True)\n",
    "    data = wf_read.readframes(CHUNK)\n",
    "    while data != '':\n",
    "        # writing to the stream is what *actually* plays the sound.\n",
    "        stream_read.write(data)\n",
    "        data = wf_read.readframes(CHUNK)\n",
    "        window.update()\n",
    "    stream_read.close()    \n",
    "    p_read.terminate()"
   ]
  },
  {
   "cell_type": "code",
   "execution_count": 18,
   "metadata": {},
   "outputs": [],
   "source": [
    "def import_model(c):\n",
    "    title_model['text'] = c\n",
    "    print(c)"
   ]
  },
  {
   "cell_type": "code",
   "execution_count": 10,
   "metadata": {},
   "outputs": [],
   "source": [
    "def vc():\n",
    "    pass"
   ]
  },
  {
   "cell_type": "code",
   "execution_count": 54,
   "metadata": {},
   "outputs": [
    {
     "name": "stdout",
     "output_type": "stream",
     "text": [
      "* stop recording\n"
     ]
    },
    {
     "name": "stderr",
     "output_type": "stream",
     "text": [
      "Exception in Tkinter callback\n",
      "Traceback (most recent call last):\n",
      "  File \"/home/phuongdong/miniconda3/envs/voice/lib/python3.7/tkinter/__init__.py\", line 1705, in __call__\n",
      "    return self.func(*args)\n",
      "  File \"<ipython-input-54-a8ec0f72c83e>\", line 26, in <lambda>\n",
      "    button_play = tk.Button(window, text='Phát lại', width=15, command=lambda c='input/voice.wav': play_wav(c))\n",
      "  File \"<ipython-input-53-2a6a66e7da40>\", line 14, in play_wav\n",
      "    window.update()\n",
      "  File \"/home/phuongdong/miniconda3/envs/voice/lib/python3.7/tkinter/__init__.py\", line 1177, in update\n",
      "    self.tk.call('update')\n",
      "_tkinter.TclError: can't invoke \"update\" command: application has been destroyed\n",
      "Exception in Tkinter callback\n",
      "Traceback (most recent call last):\n",
      "  File \"/home/phuongdong/miniconda3/envs/voice/lib/python3.7/tkinter/__init__.py\", line 1705, in __call__\n",
      "    return self.func(*args)\n",
      "  File \"<ipython-input-6-91ae551fdff6>\", line 13, in start_record\n",
      "    window.update()\n",
      "  File \"/home/phuongdong/miniconda3/envs/voice/lib/python3.7/tkinter/__init__.py\", line 1177, in update\n",
      "    self.tk.call('update')\n",
      "_tkinter.TclError: can't invoke \"update\" command: application has been destroyed\n"
     ]
    }
   ],
   "source": [
    "window = tk.Tk()\n",
    "window.geometry('500x300')\n",
    "window.title('Voice conversion')\n",
    "model_names = [\n",
    "    'dong',\n",
    "    'quang',\n",
    "    'duc',\n",
    "    'an',\n",
    "    'tuyen',\n",
    "    'thang'\n",
    "]\n",
    "button_model = tk.Frame(window, padx=150, pady=100)\n",
    "button_model.pack(fill=BOTH)\n",
    "title_model = Menubutton(button_model, width=20, padx=10,\n",
    "                                pady=5, relief=RAISED)\n",
    "title_model.grid(row=0, column=0, padx=20, pady=5)\n",
    "title_model['text'] = 'Chọn giọng chuyển'\n",
    "title_model.menu = Menu(title_model)\n",
    "title_model[\"menu\"] = title_model.menu\n",
    "for c in model_names:\n",
    "    title_model.menu.add_command(label=c, command=lambda c=c: import_model(c))\n",
    "button_start = tk.Button(window, text='Ghi âm', width=15, command=start_record)\n",
    "button_start.place(x=70, y=50)\n",
    "button_stop = tk.Button(window, text='Dừng ghi âm', width=15, command=stop_record)\n",
    "button_stop.place(x=190, y=50)\n",
    "button_play = tk.Button(window, text='Phát lại', width=15, command=lambda c='input/voice.wav': play_wav(c))\n",
    "button_play.place(x=310, y=50)\n",
    "button_vc = tk.Button(window, text='Chuyển giọng', width=15, command=vc)\n",
    "button_vc.place(x=130, y=150)\n",
    "button_play_2 = tk.Button(window, text='Kiểm tra', width=15, command=lambda c='output/voice.wav': play_wav(c))\n",
    "button_play_2.place(x=250, y=150)\n",
    "label = tk.Label(window)\n",
    "label.place(x=220, y=200)\n",
    "tk.mainloop()"
   ]
  }
 ],
 "metadata": {
  "kernelspec": {
   "display_name": "Python 3",
   "language": "python",
   "name": "python3"
  },
  "language_info": {
   "codemirror_mode": {
    "name": "ipython",
    "version": 3
   },
   "file_extension": ".py",
   "mimetype": "text/x-python",
   "name": "python",
   "nbconvert_exporter": "python",
   "pygments_lexer": "ipython3",
   "version": "3.7.7"
  }
 },
 "nbformat": 4,
 "nbformat_minor": 4
}

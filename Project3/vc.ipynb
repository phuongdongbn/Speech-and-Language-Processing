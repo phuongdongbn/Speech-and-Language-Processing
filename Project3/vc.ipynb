{
 "cells": [
  {
   "cell_type": "code",
   "execution_count": 3,
   "metadata": {},
   "outputs": [],
   "source": [
    "import tkinter as tk\n",
    "from tkinter import *\n",
    "import tkinter.messagebox\n",
    "import pyaudio\n",
    "import wave\n",
    "import os\n",
    "import numpy as np\n",
    "import math\n",
    "import operator"
   ]
  },
  {
   "cell_type": "code",
   "execution_count": 4,
   "metadata": {},
   "outputs": [],
   "source": [
    "from nnmnkwii.datasets import PaddedFileSourceDataset\n",
    "from nnmnkwii.datasets.cmu_arctic import CMUArcticWavFileDataSource\n",
    "from nnmnkwii.preprocessing.alignment import DTWAligner\n",
    "from nnmnkwii.preprocessing import trim_zeros_frames, remove_zeros_frames, delta_features\n",
    "from nnmnkwii.util import apply_each2d_trim\n",
    "from nnmnkwii.metrics import melcd\n",
    "from nnmnkwii.baseline.gmm import MLPG\n",
    "\n",
    "from os.path import basename, splitext\n",
    "import os\n",
    "import sys\n",
    "import time\n",
    "\n",
    "import numpy as np\n",
    "from scipy.io import wavfile\n",
    "from sklearn.mixture import GaussianMixture\n",
    "from sklearn.model_selection import train_test_split\n",
    "import pyworld\n",
    "import pysptk\n",
    "from pysptk.synthesis import MLSADF, Synthesizer\n",
    "import librosa\n",
    "import librosa.display\n",
    "import IPython\n",
    "from IPython.display import Audio\n",
    "import matplotlib.pyplot as plt\n",
    "import pickle"
   ]
  },
  {
   "cell_type": "code",
   "execution_count": 5,
   "metadata": {},
   "outputs": [],
   "source": [
    "CHUNK = 1024\n",
    "FORMAT = pyaudio.paInt16\n",
    "CHANNELS = 1\n",
    "RATE = 44100\n",
    "FILE_NAME = 'input/voice.wav'"
   ]
  },
  {
   "cell_type": "code",
   "execution_count": 6,
   "metadata": {},
   "outputs": [],
   "source": [
    "p = pyaudio.PyAudio()\n",
    "recording = 0\n",
    "frames = []"
   ]
  },
  {
   "cell_type": "code",
   "execution_count": 7,
   "metadata": {},
   "outputs": [],
   "source": [
    "stream = p.open(format=FORMAT,\n",
    "                channels=CHANNELS,\n",
    "                rate=RATE,\n",
    "                input=True,\n",
    "                frames_per_buffer=CHUNK)"
   ]
  },
  {
   "cell_type": "code",
   "execution_count": 8,
   "metadata": {},
   "outputs": [],
   "source": [
    "def start_record():\n",
    "    recording = 1\n",
    "    frames.clear()\n",
    "    label['text'] = 'Đang ghi âm'\n",
    "    stream = p.open(format=FORMAT,\n",
    "                channels=CHANNELS,\n",
    "                rate=RATE,\n",
    "                input=True,\n",
    "                frames_per_buffer=CHUNK)\n",
    "    while recording == 1:\n",
    "        data = stream.read(CHUNK)\n",
    "        frames.append(data)\n",
    "        window.update()"
   ]
  },
  {
   "cell_type": "code",
   "execution_count": 9,
   "metadata": {},
   "outputs": [],
   "source": [
    "def stop_record(): \n",
    "    recording = 0\n",
    "    label['text'] = 'Ghi âm xong'\n",
    "    print('* stop recording')\n",
    "    stream.stop_stream()\n",
    "    stream.close()\n",
    "    global FILE_NAME\n",
    "    FILE_NAME = 'input/voice.wav'\n",
    "    wf = wave.open(FILE_NAME, 'wb')\n",
    "    wf.setnchannels(CHANNELS)\n",
    "    wf.setsampwidth(p.get_sample_size(FORMAT))\n",
    "    wf.setframerate(RATE)\n",
    "    wf.writeframes(b''.join(frames))\n",
    "    wf.close()"
   ]
  },
  {
   "cell_type": "code",
   "execution_count": 10,
   "metadata": {},
   "outputs": [],
   "source": [
    "import sounddevice as sd"
   ]
  },
  {
   "cell_type": "code",
   "execution_count": 11,
   "metadata": {},
   "outputs": [],
   "source": [
    "def play_wav(c):\n",
    "    global waveform\n",
    "    if c==1:\n",
    "        fs, x =  wavfile.read(FILE_NAME)\n",
    "    else:\n",
    "        fs, x =  wavfile.read('output/voice.wav')\n",
    "    plt.plot(x)\n",
    "    plt.show()\n",
    "    sd.play(x, fs)"
   ]
  },
  {
   "cell_type": "code",
   "execution_count": 12,
   "metadata": {},
   "outputs": [],
   "source": [
    "fftlen = pyworld.get_cheaptrick_fft_size(RATE)\n",
    "alpha = pysptk.util.mcepalpha(RATE)\n",
    "order = 24\n",
    "frame_period = 5\n",
    "hop_length = int(RATE * (frame_period * 0.001))\n",
    "max_files = 100 # number of utterances to be used.\n",
    "test_size = 0.03\n",
    "use_delta = True"
   ]
  },
  {
   "cell_type": "code",
   "execution_count": 13,
   "metadata": {},
   "outputs": [],
   "source": [
    "if use_delta:\n",
    "    windows = [\n",
    "        (0, 0, np.array([1.0])),\n",
    "        (1, 1, np.array([-0.5, 0.0, 0.5])),\n",
    "        (1, 1, np.array([1.0, -2.0, 1.0])),\n",
    "    ]\n",
    "else:\n",
    "    windows = [\n",
    "        (0, 0, np.array([1.0])),\n",
    "    ]"
   ]
  },
  {
   "cell_type": "code",
   "execution_count": null,
   "metadata": {},
   "outputs": [],
   "source": []
  },
  {
   "cell_type": "code",
   "execution_count": 33,
   "metadata": {},
   "outputs": [],
   "source": [
    "def import_model(c):\n",
    "    label['text'] = 'Đang chuyển'\n",
    "    title_model['text'] = c\n",
    "    with open(\"models/\" + c + \".pkl\", \"rb\") as file: \n",
    "        gmm=pickle.load(file)\n",
    "    src_path=FILE_NAME\n",
    "    tgt_path=\"output/voice.wav\"\n",
    "    w_MLPG = test_one_utt(src_path, gmm, disable_mlpg=False)\n",
    "    w_MLPG = np.asarray(w_MLPG, dtype=np.int16)\n",
    "    wavfile.write(tgt_path, RATE, w_MLPG)\n",
    "    label['text'] = 'Chuyển xong'"
   ]
  },
  {
   "cell_type": "code",
   "execution_count": 15,
   "metadata": {},
   "outputs": [],
   "source": [
    "def test_one_utt(src_path, gmm, disable_mlpg=False, diffvc=False):\n",
    "    # GMM-based parameter generation is provided by the library in `baseline` module\n",
    "    if disable_mlpg:\n",
    "        # Force disable MLPG\n",
    "        paramgen = MLPG(gmm, windows=[(0,0, np.array([1.0]))], diff=diffvc)\n",
    "    else:\n",
    "        paramgen = MLPG(gmm, windows=windows, diff=diffvc)\n",
    "\n",
    "    fs, x = wavfile.read(src_path)\n",
    "    print(x)\n",
    "    x = x.astype(np.float64)\n",
    "    if len(x.shape)==2:\n",
    "        x=x.sum(axis=1)/2\n",
    "    f0, timeaxis = pyworld.dio(x, fs, frame_period=frame_period)\n",
    "    f0 = pyworld.stonemask(x, f0, timeaxis, fs)\n",
    "    spectrogram = pyworld.cheaptrick(x, f0, timeaxis, fs)\n",
    "    aperiodicity = pyworld.d4c(x, f0, timeaxis, fs)\n",
    "\n",
    "    mc = pysptk.sp2mc(spectrogram, order=order, alpha=alpha)\n",
    "    c0, mc = mc[:, 0], mc[:, 1:]\n",
    "    if use_delta:\n",
    "        mc = delta_features(mc, windows)\n",
    "    mc = paramgen.transform(mc)\n",
    "    #if disable_mlpg and mc.shape[-1] != static_dim:\n",
    "    #    mc = mc[:,:static_dim]\n",
    "    #assert mc.shape[-1] == static_dim\n",
    "    mc = np.hstack((c0[:, None], mc))\n",
    "    if diffvc:\n",
    "        mc[:, 0] = 0 # remove power coefficients\n",
    "        engine = Synthesizer(MLSADF(order=order, alpha=alpha), hopsize=hop_length)\n",
    "        b = pysptk.mc2b(mc.astype(np.float64), alpha=alpha)\n",
    "        waveform = engine.synthesis(x, b)\n",
    "    else:\n",
    "        spectrogram = pysptk.mc2sp(\n",
    "            mc.astype(np.float64), alpha=alpha, fftlen=fftlen)\n",
    "        waveform = pyworld.synthesize(\n",
    "            f0, spectrogram, aperiodicity, fs, frame_period)\n",
    "        \n",
    "    return waveform"
   ]
  },
  {
   "cell_type": "code",
   "execution_count": 16,
   "metadata": {},
   "outputs": [],
   "source": [
    "from tkinter.filedialog import askopenfilename\n",
    "def open_file():\n",
    "    global FILE_NAME\n",
    "    FILE_NAME = askopenfilename(initialdir = \"/home\", title = \"Select file\", filetypes =[('file audio', '*.wav')]) "
   ]
  },
  {
   "cell_type": "code",
   "execution_count": 34,
   "metadata": {},
   "outputs": [
    {
     "data": {
      "image/png": "[encoded data removed]",
      "text/plain": [
       "<Figure size 432x288 with 1 Axes>"
      ]
     },
     "metadata": {
      "needs_background": "light"
     },
     "output_type": "display_data"
    },
    {
     "name": "stdout",
     "output_type": "stream",
     "text": [
      "[[ 4  4]\n",
      " [-1  0]\n",
      " [-5 -5]\n",
      " ...\n",
      " [38 38]\n",
      " [34 35]\n",
      " [24 24]]\n"
     ]
    },
    {
     "data": {
      "image/png": "[encoded data removed]",
      "text/plain": [
       "<Figure size 432x288 with 1 Axes>"
      ]
     },
     "metadata": {
      "needs_background": "light"
     },
     "output_type": "display_data"
    }
   ],
   "source": [
    "window = tk.Tk()\n",
    "window.geometry('500x300')\n",
    "window.title('Voice conversion')\n",
    "model_names = [\n",
    "    'dong',\n",
    "    'quang',\n",
    "    'duc',\n",
    "    'an',\n",
    "    'tuyen',\n",
    "    'thang'\n",
    "]\n",
    "button_model = tk.Frame(window, padx=150, pady=150)\n",
    "button_model.pack(fill=BOTH)\n",
    "title_model = Menubutton(button_model, width=20, padx=10,\n",
    "                                pady=5, relief=RAISED)\n",
    "title_model.grid(row=0, column=0, padx=20, pady=5)\n",
    "title_model['text'] = 'Chọn giọng chuyển'\n",
    "title_model.menu = Menu(title_model)\n",
    "title_model[\"menu\"] = title_model.menu\n",
    "for c in model_names:\n",
    "    title_model.menu.add_command(label=c, command=lambda c=c: import_model(c))\n",
    "button_start = tk.Button(window, text='Ghi âm', width=15, command=start_record)\n",
    "button_start.place(x=30, y=50)\n",
    "button_stop = tk.Button(window, text='Dừng ghi âm', width=15, command=stop_record)\n",
    "button_stop.place(x=150, y=50)\n",
    "label_2 = tk.Label(window, text='hoặc')\n",
    "label_2.place(x=300, y=50)\n",
    "button_open_file = tk.Button(window, text='Chọn file', width=15, command=open_file)\n",
    "button_open_file.place(x=350, y=50)\n",
    "button_play = tk.Button(window, text='Phát lại', width=15, command=lambda c=1: play_wav(c))\n",
    "button_play.place(x=190, y=100)\n",
    "button_play_2 = tk.Button(window, text='Kiểm tra', width=15, command=lambda c=2: play_wav(c))\n",
    "button_play_2.place(x=190, y=200)\n",
    "label = tk.Label(window)\n",
    "label.place(x=220, y=250)\n",
    "tk.mainloop()"
   ]
  }
 ],
 "metadata": {
  "kernelspec": {
   "display_name": "Python 3",
   "language": "python",
   "name": "python3"
  },
  "language_info": {
   "codemirror_mode": {
    "name": "ipython",
    "version": 3
   },
   "file_extension": ".py",
   "mimetype": "text/x-python",
   "name": "python",
   "nbconvert_exporter": "python",
   "pygments_lexer": "ipython3",
   "version": "3.6.10"
  }
 },
 "nbformat": 4,
 "nbformat_minor": 4
}

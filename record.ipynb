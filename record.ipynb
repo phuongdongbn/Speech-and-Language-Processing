{
 "cells": [
  {
   "cell_type": "code",
   "execution_count": 1,
   "metadata": {},
   "outputs": [],
   "source": [
    "import os\n",
    "\n",
    "import nltk.data\n",
    "import sounddevice as sd\n",
    "import soundfile as sf\n",
    "import time\n",
    "import numpy as np"
   ]
  },
  {
   "cell_type": "code",
   "execution_count": 2,
   "metadata": {},
   "outputs": [],
   "source": [
    "import tkinter as tk\n",
    "from tkinter import *"
   ]
  },
  {
   "cell_type": "code",
   "execution_count": 71,
   "metadata": {},
   "outputs": [],
   "source": [
    "label_status = ''\n",
    "index=-1"
   ]
  },
  {
   "cell_type": "code",
   "execution_count": 4,
   "metadata": {},
   "outputs": [],
   "source": [
    "topics = ['thoisu', 'gocnhin', 'thegioi', 'kinhdoanh', 'giaitri', 'thethao', 'phapluat', 'giaoduc', 'suckhoe', 'doisong', 'dulich', 'khoahoc', 'sohoa', 'xe', 'ykien','tamsu']"
   ]
  },
  {
   "cell_type": "code",
   "execution_count": 5,
   "metadata": {},
   "outputs": [
    {
     "name": "stdout",
     "output_type": "stream",
     "text": [
      "11 11\n",
      "85 85\n",
      "105 105\n",
      "123 123\n",
      "133 133\n",
      "151 151\n",
      "158 158\n",
      "203 203\n",
      "230 230\n",
      "262 262\n",
      "281 281\n",
      "293 293\n",
      "307 307\n",
      "343 343\n",
      "360 360\n",
      "408 408\n"
     ]
    }
   ],
   "source": [
    "sentences = np.array([])\n",
    "topic_of_sent = np.array([])\n",
    "for topic in topics:\n",
    "    filePathInput = 'data/' + topic + '.txt'\n",
    "    f = open(filePathInput, 'r', encoding='utf8')\n",
    "    sentence = np.array(f.readlines())\n",
    "    sentences = np.concatenate((sentences, sentence), axis=None)\n",
    "    topic_of_sent = np.concatenate((topic_of_sent, np.full(sentence.size, topic)), axis=None)\n",
    "    print(sentences.size, topic_of_sent.size)"
   ]
  },
  {
   "cell_type": "code",
   "execution_count": 35,
   "metadata": {},
   "outputs": [],
   "source": [
    "def sync_record(filename, duration, fs, channels):\n",
    "    global label_status\n",
    "    label_status = 'Recording'\n",
    "    myrecording = sd.rec(int(duration * fs), samplerate=fs, channels=channels)\n",
    "    sd.wait()\n",
    "    sf.write(filename, myrecording, fs)\n",
    "    label_status = 'Done Recording'"
   ]
  },
  {
   "cell_type": "code",
   "execution_count": 70,
   "metadata": {},
   "outputs": [],
   "source": [
    "def show_text():\n",
    "    global index\n",
    "    index = index + 1\n",
    "    outputBox.delete(\"1.0\", END)\n",
    "    outputBox.insert(END, sentences[index])"
   ]
  },
  {
   "cell_type": "code",
   "execution_count": 77,
   "metadata": {},
   "outputs": [],
   "source": [
    "def record_sentence(index):\n",
    "    print(index)\n",
    "    fileNameRecord = 'outputWav/' + topic_of_sent[index] + '/' + str(index) + '.wav'\n",
    "    sync_record(fileNameRecord, len(sentences[index])/12.5, 16000, 1)\n",
    "    sentence = str(sentences[index])\n",
    "    f = open('outputWav/' + topic_of_sent[index] + '/description.txt', 'a+', encoding='utf8')\n",
    "    f.write(str(index) + '.wav\\n')\n",
    "    f.write(sentence)"
   ]
  },
  {
   "cell_type": "code",
   "execution_count": 54,
   "metadata": {},
   "outputs": [
    {
     "name": "stdout",
     "output_type": "stream",
     "text": [
      "Gói thầu trên cao dài hơn 8 km của tuyến Metro đầu tiên ở thủ đô đã hoàn thiện thi công và đang chờ bàn giao.\n",
      "\n"
     ]
    }
   ],
   "source": [
    "print(sentences[0])"
   ]
  },
  {
   "cell_type": "code",
   "execution_count": 74,
   "metadata": {},
   "outputs": [],
   "source": [
    "def start_record():\n",
    "    global status\n",
    "    global index\n",
    "    record_sentence(index)\n",
    "    print('Record-done ', index)"
   ]
  },
  {
   "cell_type": "code",
   "execution_count": 76,
   "metadata": {},
   "outputs": [
    {
     "name": "stdout",
     "output_type": "stream",
     "text": [
      "0\n",
      "Record-done  0\n",
      "1\n",
      "Record-done  1\n"
     ]
    }
   ],
   "source": [
    "m = tk.Tk()\n",
    "m.geometry(\"700x250\")\n",
    "m.title('Record')\n",
    "button_start = tk.Button(m, text='Start', width=15, command=start_record)\n",
    "button_start.place(x=500, y=10)\n",
    "label = tk.Label(m, text='', textvariable=label_status)\n",
    "label.place(x=50, y=10)\n",
    "outputBox = Text(m, width=70, height=7, bd=1)\n",
    "outputBox.place(x=50, y=50)\n",
    "button_next = tk.Button(m, text='Next', width=15, command=show_text)\n",
    "button_next.place(x=500, y=200)\n",
    "m.mainloop()"
   ]
  }
 ],
 "metadata": {
  "kernelspec": {
   "display_name": "Python 3",
   "language": "python",
   "name": "python3"
  },
  "language_info": {
   "codemirror_mode": {
    "name": "ipython",
    "version": 3
   },
   "file_extension": ".py",
   "mimetype": "text/x-python",
   "name": "python",
   "nbconvert_exporter": "python",
   "pygments_lexer": "ipython3",
   "version": "3.7.6"
  }
 },
 "nbformat": 4,
 "nbformat_minor": 4
}

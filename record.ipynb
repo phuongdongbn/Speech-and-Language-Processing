{
 "cells": [
  {
   "cell_type": "code",
   "execution_count": 2,
   "metadata": {},
   "outputs": [],
   "source": [
    "import os\n",
    "\n",
    "import nltk.data\n",
    "import sounddevice as sd\n",
    "import soundfile as sf\n",
    "import time"
   ]
  },
  {
   "cell_type": "code",
   "execution_count": 1,
   "metadata": {},
   "outputs": [],
   "source": [
    "def sync_record(filename, duration, fs, channels):\n",
    "    print('recording')\n",
    "    myrecording = sd.rec(int(duration * fs), samplerate=fs, channels=channels)\n",
    "    sd.wait()\n",
    "    sf.write(filename, myrecording, fs)\n",
    "    print('done recording')"
   ]
  },
  {
   "cell_type": "code",
   "execution_count": 3,
   "metadata": {},
   "outputs": [],
   "source": [
    "f = open('data/thoisu.txt','r', encoding='utf8')"
   ]
  },
  {
   "cell_type": "code",
   "execution_count": 4,
   "metadata": {},
   "outputs": [
    {
     "name": "stdout",
     "output_type": "stream",
     "text": [
      "['Gói thầu trên cao dài hơn 8 km của tuyến Metro đầu tiên ở thủ đô đã hoàn thiện thi công và đang chờ bàn giao.\\n', 'Ngày 24/3, đại diện Ban quản lý dự án đường sắt đô thị Hà Nội (MRB) cho biết, đoạn tuyến trên cao của dự án metro Nhổn - ga Hà Nội (dự án) gồm hệ thống cầu cạn, cột, xà mũ, dầm, lan can... đang chuẩn bị nghiệm thu, bàn giao để kịp tiến độ chạy thử nghiệm vào cuối năm nay; khai thác thương mại vào năm 2021.\\n', 'Cũng theo lãnh đạo MRB, việc nghiệm thu đoạn trên cao sẽ do các đơn vị tư vấn dự án, chủ đầu tư, Ban quản lý dự án và Hội đồng nghiệm thu Nhà nước đảm nhận.\\n', 'Đoạn trên cao của tuyến metro Nhổn - ga Hà Nội dài hơn 8 km, chạy từ khu Depot (Nhổn, Bắc Từ Liêm) qua đường 32, Hồ Tùng Mậu, Xuân Thuỷ, Cầu Giấy và kết thúc tại dốc hạ ngầm trên đường Kim Mã, cạnh hồ Thủ Lệ.\\n', 'Hợp phần trên cao của dự án này chạy qua nhiều nút giao lớn thuộc quận Bắc Từ Liêm, Cầu Giấy, Đống Đa; trong đó có cầu cạn trên cao vượt qua các cầu vượt Mai Dịch và Cầu Giấy, tạo thành nút giao có ba tầng xe chạy.\\n', 'Hiện dự án cũng đã cơ bản hoàn thiện lắp đặt hệ thống đường ray ở đoạn trên cao. Đây là hệ thống ray chạy tàu do một công ty của Nga cung cấp và được nhà thầu Pháp thi công. \\n', 'Hợp phần nhà ga trên cao (gói thầu riêng) đến nay đạt gần 80% khối lượng thi công. Các nhà thầu đang xây dựng mái thép, lối vào ga bao gồm hệ thống thang máy, thang cuốn.\\n', 'Trên công trường, các đơn vị thi công duy trì cường độ 3 ca mỗi ngày, với số lượng chuyên gia, cán bộ, công nhân trên 800 người.\\n', 'Tuyến đường sắt đô thị số 3 Nhổn - Ga Hà Nội dài 12,5 km, bao gồm 8,5 km đi trên cao từ Nhổn đến Kim Mã và 4 km đi ngầm từ Kim Mã đến ga Hà Nội. \\n', 'Dự án có 10 đoàn tàu hợp kim nhôm chế tạo tại Pháp theo tiêu chuẩn Châu Âu. \\n', 'Dự kiến tháng 7/2020 đoàn tàu đầu tiên (trong số 10 đoàn của dự án, được chế tạo tại Pháp) sẽ được đưa về dự án và chạy thử vào tháng 9/2020 và khai thác thương mại vào năm 2021.']\n"
     ]
    }
   ],
   "source": [
    "sentences = f.readlines()\n",
    "print(sentences)"
   ]
  },
  {
   "cell_type": "code",
   "execution_count": 5,
   "metadata": {},
   "outputs": [
    {
     "name": "stdout",
     "output_type": "stream",
     "text": [
      "Gói thầu trên cao dài hơn 8 km của tuyến Metro đầu tiên ở thủ đô đã hoàn thiện thi công và đang chờ bàn giao.\n",
      "\n",
      "recording\n",
      "done recording\n",
      "Ngày 24/3, đại diện Ban quản lý dự án đường sắt đô thị Hà Nội (MRB) cho biết, đoạn tuyến trên cao của dự án metro Nhổn - ga Hà Nội (dự án) gồm hệ thống cầu cạn, cột, xà mũ, dầm, lan can... đang chuẩn bị nghiệm thu, bàn giao để kịp tiến độ chạy thử nghiệm vào cuối năm nay; khai thác thương mại vào năm 2021.\n",
      "\n",
      "recording\n",
      "done recording\n",
      "Cũng theo lãnh đạo MRB, việc nghiệm thu đoạn trên cao sẽ do các đơn vị tư vấn dự án, chủ đầu tư, Ban quản lý dự án và Hội đồng nghiệm thu Nhà nước đảm nhận.\n",
      "\n",
      "recording\n",
      "done recording\n",
      "Đoạn trên cao của tuyến metro Nhổn - ga Hà Nội dài hơn 8 km, chạy từ khu Depot (Nhổn, Bắc Từ Liêm) qua đường 32, Hồ Tùng Mậu, Xuân Thuỷ, Cầu Giấy và kết thúc tại dốc hạ ngầm trên đường Kim Mã, cạnh hồ Thủ Lệ.\n",
      "\n",
      "recording\n",
      "done recording\n",
      "Hợp phần trên cao của dự án này chạy qua nhiều nút giao lớn thuộc quận Bắc Từ Liêm, Cầu Giấy, Đống Đa; trong đó có cầu cạn trên cao vượt qua các cầu vượt Mai Dịch và Cầu Giấy, tạo thành nút giao có ba tầng xe chạy.\n",
      "\n",
      "recording\n",
      "done recording\n",
      "Hiện dự án cũng đã cơ bản hoàn thiện lắp đặt hệ thống đường ray ở đoạn trên cao. Đây là hệ thống ray chạy tàu do một công ty của Nga cung cấp và được nhà thầu Pháp thi công. \n",
      "\n",
      "recording\n",
      "done recording\n",
      "Hợp phần nhà ga trên cao (gói thầu riêng) đến nay đạt gần 80% khối lượng thi công. Các nhà thầu đang xây dựng mái thép, lối vào ga bao gồm hệ thống thang máy, thang cuốn.\n",
      "\n",
      "recording\n",
      "done recording\n",
      "Trên công trường, các đơn vị thi công duy trì cường độ 3 ca mỗi ngày, với số lượng chuyên gia, cán bộ, công nhân trên 800 người.\n",
      "\n",
      "recording\n",
      "done recording\n",
      "Tuyến đường sắt đô thị số 3 Nhổn - Ga Hà Nội dài 12,5 km, bao gồm 8,5 km đi trên cao từ Nhổn đến Kim Mã và 4 km đi ngầm từ Kim Mã đến ga Hà Nội. \n",
      "\n",
      "recording\n",
      "done recording\n",
      "Dự án có 10 đoàn tàu hợp kim nhôm chế tạo tại Pháp theo tiêu chuẩn Châu Âu. \n",
      "\n",
      "recording\n",
      "done recording\n",
      "Dự kiến tháng 7/2020 đoàn tàu đầu tiên (trong số 10 đoàn của dự án, được chế tạo tại Pháp) sẽ được đưa về dự án và chạy thử vào tháng 9/2020 và khai thác thương mại vào năm 2021.\n",
      "recording\n",
      "done recording\n"
     ]
    }
   ],
   "source": [
    "for sentence in sentences:\n",
    "    print(sentence)\n",
    "    fileNameRecord = 'outputWav/thoisu/' + str(sentences.index(sentence)) + '.wav'\n",
    "    sync_record(fileNameRecord, 10, 16000, 1)"
   ]
  }
 ],
 "metadata": {
  "kernelspec": {
   "display_name": "Python 3",
   "language": "python",
   "name": "python3"
  },
  "language_info": {
   "codemirror_mode": {
    "name": "ipython",
    "version": 3
   },
   "file_extension": ".py",
   "mimetype": "text/x-python",
   "name": "python",
   "nbconvert_exporter": "python",
   "pygments_lexer": "ipython3",
   "version": "3.7.6"
  }
 },
 "nbformat": 4,
 "nbformat_minor": 4
}
